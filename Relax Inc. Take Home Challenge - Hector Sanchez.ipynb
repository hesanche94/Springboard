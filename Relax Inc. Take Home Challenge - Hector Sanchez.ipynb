{
 "cells": [
  {
   "cell_type": "markdown",
   "id": "cb2339e9-3990-4f59-96be-b907cf271999",
   "metadata": {},
   "source": [
    "# **Relax Inc. Take Home Challenge - Hector Sanchez**"
   ]
  },
  {
   "cell_type": "markdown",
   "id": "0b21f78e-5364-4146-ae87-2793eb139c0e",
   "metadata": {},
   "source": [
    "### **Part 1 - Loading and Understanding the Data**"
   ]
  },
  {
   "cell_type": "code",
   "execution_count": 3,
   "id": "4c31e6fc-4c67-4f9a-aaed-558669b12884",
   "metadata": {},
   "outputs": [],
   "source": [
    "# First, I'll start by importing the necessary libraries/packages\n",
    "\n",
    "import pandas as pd\n",
    "import numpy as np\n",
    "import matplotlib.pyplot as plt\n",
    "import seaborn as sns"
   ]
  },
  {
   "cell_type": "code",
   "execution_count": 4,
   "id": "caca7171-10ea-440e-9af4-89446d29d8f5",
   "metadata": {},
   "outputs": [],
   "source": [
    "# Next, I'll load the two CSV files \n",
    "\n",
    "engagement_file_path = 'C:/Users/hecsa/Springboard/Springboard Github/Springboard/1481069814_relax_challenge/relax_challenge/takehome_user_engagement.csv'\n",
    "user_file_path = 'C:/Users/hecsa/Springboard/Springboard Github/Springboard/1481069814_relax_challenge/relax_challenge/takehome_users.csv'\n",
    "\n",
    "engagement_data = pd.read_csv(engagement_file_path)\n",
    "user_data = pd.read_csv(user_file_path, encoding='latin1')"
   ]
  },
  {
   "cell_type": "markdown",
   "id": "71486da7-857b-4da2-9d80-7fa68820ae84",
   "metadata": {},
   "source": [
    "Now that both datasets have been loaded, I'm going to call .head(), .info(), and .describe() on each dataset to check on their structure"
   ]
  },
  {
   "cell_type": "markdown",
   "id": "8c10eab1-1980-4d29-b607-4127f4440d62",
   "metadata": {},
   "source": [
    "Structure of 'engagement_data':"
   ]
  },
  {
   "cell_type": "code",
   "execution_count": 7,
   "id": "2ae9789f-324b-4daa-9701-08c60e89611d",
   "metadata": {},
   "outputs": [
    {
     "data": {
      "text/html": [
       "<div>\n",
       "<style scoped>\n",
       "    .dataframe tbody tr th:only-of-type {\n",
       "        vertical-align: middle;\n",
       "    }\n",
       "\n",
       "    .dataframe tbody tr th {\n",
       "        vertical-align: top;\n",
       "    }\n",
       "\n",
       "    .dataframe thead th {\n",
       "        text-align: right;\n",
       "    }\n",
       "</style>\n",
       "<table border=\"1\" class=\"dataframe\">\n",
       "  <thead>\n",
       "    <tr style=\"text-align: right;\">\n",
       "      <th></th>\n",
       "      <th>time_stamp</th>\n",
       "      <th>user_id</th>\n",
       "      <th>visited</th>\n",
       "    </tr>\n",
       "  </thead>\n",
       "  <tbody>\n",
       "    <tr>\n",
       "      <th>0</th>\n",
       "      <td>2014-04-22 03:53:30</td>\n",
       "      <td>1</td>\n",
       "      <td>1</td>\n",
       "    </tr>\n",
       "    <tr>\n",
       "      <th>1</th>\n",
       "      <td>2013-11-15 03:45:04</td>\n",
       "      <td>2</td>\n",
       "      <td>1</td>\n",
       "    </tr>\n",
       "    <tr>\n",
       "      <th>2</th>\n",
       "      <td>2013-11-29 03:45:04</td>\n",
       "      <td>2</td>\n",
       "      <td>1</td>\n",
       "    </tr>\n",
       "    <tr>\n",
       "      <th>3</th>\n",
       "      <td>2013-12-09 03:45:04</td>\n",
       "      <td>2</td>\n",
       "      <td>1</td>\n",
       "    </tr>\n",
       "    <tr>\n",
       "      <th>4</th>\n",
       "      <td>2013-12-25 03:45:04</td>\n",
       "      <td>2</td>\n",
       "      <td>1</td>\n",
       "    </tr>\n",
       "  </tbody>\n",
       "</table>\n",
       "</div>"
      ],
      "text/plain": [
       "            time_stamp  user_id  visited\n",
       "0  2014-04-22 03:53:30        1        1\n",
       "1  2013-11-15 03:45:04        2        1\n",
       "2  2013-11-29 03:45:04        2        1\n",
       "3  2013-12-09 03:45:04        2        1\n",
       "4  2013-12-25 03:45:04        2        1"
      ]
     },
     "execution_count": 7,
     "metadata": {},
     "output_type": "execute_result"
    }
   ],
   "source": [
    "# Call .had() on engegement_data\n",
    "\n",
    "engagement_data.head()"
   ]
  },
  {
   "cell_type": "code",
   "execution_count": 8,
   "id": "93009cef-f7a8-4898-9eef-d8c7c7b232fc",
   "metadata": {},
   "outputs": [
    {
     "name": "stdout",
     "output_type": "stream",
     "text": [
      "<class 'pandas.core.frame.DataFrame'>\n",
      "RangeIndex: 207917 entries, 0 to 207916\n",
      "Data columns (total 3 columns):\n",
      " #   Column      Non-Null Count   Dtype \n",
      "---  ------      --------------   ----- \n",
      " 0   time_stamp  207917 non-null  object\n",
      " 1   user_id     207917 non-null  int64 \n",
      " 2   visited     207917 non-null  int64 \n",
      "dtypes: int64(2), object(1)\n",
      "memory usage: 4.8+ MB\n"
     ]
    }
   ],
   "source": [
    "# Call .info() on engagement_data\n",
    "\n",
    "engagement_data.info()"
   ]
  },
  {
   "cell_type": "code",
   "execution_count": 9,
   "id": "0340d35f-51dd-422d-aa45-1b4e28163b96",
   "metadata": {},
   "outputs": [
    {
     "data": {
      "text/html": [
       "<div>\n",
       "<style scoped>\n",
       "    .dataframe tbody tr th:only-of-type {\n",
       "        vertical-align: middle;\n",
       "    }\n",
       "\n",
       "    .dataframe tbody tr th {\n",
       "        vertical-align: top;\n",
       "    }\n",
       "\n",
       "    .dataframe thead th {\n",
       "        text-align: right;\n",
       "    }\n",
       "</style>\n",
       "<table border=\"1\" class=\"dataframe\">\n",
       "  <thead>\n",
       "    <tr style=\"text-align: right;\">\n",
       "      <th></th>\n",
       "      <th>user_id</th>\n",
       "      <th>visited</th>\n",
       "    </tr>\n",
       "  </thead>\n",
       "  <tbody>\n",
       "    <tr>\n",
       "      <th>count</th>\n",
       "      <td>207917.000000</td>\n",
       "      <td>207917.0</td>\n",
       "    </tr>\n",
       "    <tr>\n",
       "      <th>mean</th>\n",
       "      <td>5913.314197</td>\n",
       "      <td>1.0</td>\n",
       "    </tr>\n",
       "    <tr>\n",
       "      <th>std</th>\n",
       "      <td>3394.941674</td>\n",
       "      <td>0.0</td>\n",
       "    </tr>\n",
       "    <tr>\n",
       "      <th>min</th>\n",
       "      <td>1.000000</td>\n",
       "      <td>1.0</td>\n",
       "    </tr>\n",
       "    <tr>\n",
       "      <th>25%</th>\n",
       "      <td>3087.000000</td>\n",
       "      <td>1.0</td>\n",
       "    </tr>\n",
       "    <tr>\n",
       "      <th>50%</th>\n",
       "      <td>5682.000000</td>\n",
       "      <td>1.0</td>\n",
       "    </tr>\n",
       "    <tr>\n",
       "      <th>75%</th>\n",
       "      <td>8944.000000</td>\n",
       "      <td>1.0</td>\n",
       "    </tr>\n",
       "    <tr>\n",
       "      <th>max</th>\n",
       "      <td>12000.000000</td>\n",
       "      <td>1.0</td>\n",
       "    </tr>\n",
       "  </tbody>\n",
       "</table>\n",
       "</div>"
      ],
      "text/plain": [
       "             user_id   visited\n",
       "count  207917.000000  207917.0\n",
       "mean     5913.314197       1.0\n",
       "std      3394.941674       0.0\n",
       "min         1.000000       1.0\n",
       "25%      3087.000000       1.0\n",
       "50%      5682.000000       1.0\n",
       "75%      8944.000000       1.0\n",
       "max     12000.000000       1.0"
      ]
     },
     "execution_count": 9,
     "metadata": {},
     "output_type": "execute_result"
    }
   ],
   "source": [
    "# Call .describe() on engagement_data\n",
    "\n",
    "engagement_data.describe()"
   ]
  },
  {
   "cell_type": "markdown",
   "id": "91dd6b76-5ec5-49de-a2e8-c348724b6c3c",
   "metadata": {},
   "source": [
    "Structure of 'user_data':"
   ]
  },
  {
   "cell_type": "code",
   "execution_count": 11,
   "id": "a0595631-6fb4-41a4-aa91-e4c0c9f82b9b",
   "metadata": {},
   "outputs": [
    {
     "data": {
      "text/html": [
       "<div>\n",
       "<style scoped>\n",
       "    .dataframe tbody tr th:only-of-type {\n",
       "        vertical-align: middle;\n",
       "    }\n",
       "\n",
       "    .dataframe tbody tr th {\n",
       "        vertical-align: top;\n",
       "    }\n",
       "\n",
       "    .dataframe thead th {\n",
       "        text-align: right;\n",
       "    }\n",
       "</style>\n",
       "<table border=\"1\" class=\"dataframe\">\n",
       "  <thead>\n",
       "    <tr style=\"text-align: right;\">\n",
       "      <th></th>\n",
       "      <th>object_id</th>\n",
       "      <th>creation_time</th>\n",
       "      <th>name</th>\n",
       "      <th>email</th>\n",
       "      <th>creation_source</th>\n",
       "      <th>last_session_creation_time</th>\n",
       "      <th>opted_in_to_mailing_list</th>\n",
       "      <th>enabled_for_marketing_drip</th>\n",
       "      <th>org_id</th>\n",
       "      <th>invited_by_user_id</th>\n",
       "    </tr>\n",
       "  </thead>\n",
       "  <tbody>\n",
       "    <tr>\n",
       "      <th>0</th>\n",
       "      <td>1</td>\n",
       "      <td>2014-04-22 03:53:30</td>\n",
       "      <td>Clausen August</td>\n",
       "      <td>AugustCClausen@yahoo.com</td>\n",
       "      <td>GUEST_INVITE</td>\n",
       "      <td>1.398139e+09</td>\n",
       "      <td>1</td>\n",
       "      <td>0</td>\n",
       "      <td>11</td>\n",
       "      <td>10803.0</td>\n",
       "    </tr>\n",
       "    <tr>\n",
       "      <th>1</th>\n",
       "      <td>2</td>\n",
       "      <td>2013-11-15 03:45:04</td>\n",
       "      <td>Poole Matthew</td>\n",
       "      <td>MatthewPoole@gustr.com</td>\n",
       "      <td>ORG_INVITE</td>\n",
       "      <td>1.396238e+09</td>\n",
       "      <td>0</td>\n",
       "      <td>0</td>\n",
       "      <td>1</td>\n",
       "      <td>316.0</td>\n",
       "    </tr>\n",
       "    <tr>\n",
       "      <th>2</th>\n",
       "      <td>3</td>\n",
       "      <td>2013-03-19 23:14:52</td>\n",
       "      <td>Bottrill Mitchell</td>\n",
       "      <td>MitchellBottrill@gustr.com</td>\n",
       "      <td>ORG_INVITE</td>\n",
       "      <td>1.363735e+09</td>\n",
       "      <td>0</td>\n",
       "      <td>0</td>\n",
       "      <td>94</td>\n",
       "      <td>1525.0</td>\n",
       "    </tr>\n",
       "    <tr>\n",
       "      <th>3</th>\n",
       "      <td>4</td>\n",
       "      <td>2013-05-21 08:09:28</td>\n",
       "      <td>Clausen Nicklas</td>\n",
       "      <td>NicklasSClausen@yahoo.com</td>\n",
       "      <td>GUEST_INVITE</td>\n",
       "      <td>1.369210e+09</td>\n",
       "      <td>0</td>\n",
       "      <td>0</td>\n",
       "      <td>1</td>\n",
       "      <td>5151.0</td>\n",
       "    </tr>\n",
       "    <tr>\n",
       "      <th>4</th>\n",
       "      <td>5</td>\n",
       "      <td>2013-01-17 10:14:20</td>\n",
       "      <td>Raw Grace</td>\n",
       "      <td>GraceRaw@yahoo.com</td>\n",
       "      <td>GUEST_INVITE</td>\n",
       "      <td>1.358850e+09</td>\n",
       "      <td>0</td>\n",
       "      <td>0</td>\n",
       "      <td>193</td>\n",
       "      <td>5240.0</td>\n",
       "    </tr>\n",
       "  </tbody>\n",
       "</table>\n",
       "</div>"
      ],
      "text/plain": [
       "   object_id        creation_time               name  \\\n",
       "0          1  2014-04-22 03:53:30     Clausen August   \n",
       "1          2  2013-11-15 03:45:04      Poole Matthew   \n",
       "2          3  2013-03-19 23:14:52  Bottrill Mitchell   \n",
       "3          4  2013-05-21 08:09:28    Clausen Nicklas   \n",
       "4          5  2013-01-17 10:14:20          Raw Grace   \n",
       "\n",
       "                        email creation_source  last_session_creation_time  \\\n",
       "0    AugustCClausen@yahoo.com    GUEST_INVITE                1.398139e+09   \n",
       "1      MatthewPoole@gustr.com      ORG_INVITE                1.396238e+09   \n",
       "2  MitchellBottrill@gustr.com      ORG_INVITE                1.363735e+09   \n",
       "3   NicklasSClausen@yahoo.com    GUEST_INVITE                1.369210e+09   \n",
       "4          GraceRaw@yahoo.com    GUEST_INVITE                1.358850e+09   \n",
       "\n",
       "   opted_in_to_mailing_list  enabled_for_marketing_drip  org_id  \\\n",
       "0                         1                           0      11   \n",
       "1                         0                           0       1   \n",
       "2                         0                           0      94   \n",
       "3                         0                           0       1   \n",
       "4                         0                           0     193   \n",
       "\n",
       "   invited_by_user_id  \n",
       "0             10803.0  \n",
       "1               316.0  \n",
       "2              1525.0  \n",
       "3              5151.0  \n",
       "4              5240.0  "
      ]
     },
     "execution_count": 11,
     "metadata": {},
     "output_type": "execute_result"
    }
   ],
   "source": [
    "# Call .head() on user_data\n",
    "\n",
    "user_data.head()"
   ]
  },
  {
   "cell_type": "code",
   "execution_count": 12,
   "id": "82fef47f-d357-48cf-87d8-a2ba353f43de",
   "metadata": {},
   "outputs": [
    {
     "name": "stdout",
     "output_type": "stream",
     "text": [
      "<class 'pandas.core.frame.DataFrame'>\n",
      "RangeIndex: 12000 entries, 0 to 11999\n",
      "Data columns (total 10 columns):\n",
      " #   Column                      Non-Null Count  Dtype  \n",
      "---  ------                      --------------  -----  \n",
      " 0   object_id                   12000 non-null  int64  \n",
      " 1   creation_time               12000 non-null  object \n",
      " 2   name                        12000 non-null  object \n",
      " 3   email                       12000 non-null  object \n",
      " 4   creation_source             12000 non-null  object \n",
      " 5   last_session_creation_time  8823 non-null   float64\n",
      " 6   opted_in_to_mailing_list    12000 non-null  int64  \n",
      " 7   enabled_for_marketing_drip  12000 non-null  int64  \n",
      " 8   org_id                      12000 non-null  int64  \n",
      " 9   invited_by_user_id          6417 non-null   float64\n",
      "dtypes: float64(2), int64(4), object(4)\n",
      "memory usage: 937.6+ KB\n"
     ]
    }
   ],
   "source": [
    "# Call .info() on user_data\n",
    "\n",
    "user_data.info()"
   ]
  },
  {
   "cell_type": "code",
   "execution_count": 13,
   "id": "e2c6de84-a5d3-4bad-a778-1b13df76fa1e",
   "metadata": {},
   "outputs": [
    {
     "data": {
      "text/html": [
       "<div>\n",
       "<style scoped>\n",
       "    .dataframe tbody tr th:only-of-type {\n",
       "        vertical-align: middle;\n",
       "    }\n",
       "\n",
       "    .dataframe tbody tr th {\n",
       "        vertical-align: top;\n",
       "    }\n",
       "\n",
       "    .dataframe thead th {\n",
       "        text-align: right;\n",
       "    }\n",
       "</style>\n",
       "<table border=\"1\" class=\"dataframe\">\n",
       "  <thead>\n",
       "    <tr style=\"text-align: right;\">\n",
       "      <th></th>\n",
       "      <th>object_id</th>\n",
       "      <th>last_session_creation_time</th>\n",
       "      <th>opted_in_to_mailing_list</th>\n",
       "      <th>enabled_for_marketing_drip</th>\n",
       "      <th>org_id</th>\n",
       "      <th>invited_by_user_id</th>\n",
       "    </tr>\n",
       "  </thead>\n",
       "  <tbody>\n",
       "    <tr>\n",
       "      <th>count</th>\n",
       "      <td>12000.00000</td>\n",
       "      <td>8.823000e+03</td>\n",
       "      <td>12000.000000</td>\n",
       "      <td>12000.000000</td>\n",
       "      <td>12000.000000</td>\n",
       "      <td>6417.000000</td>\n",
       "    </tr>\n",
       "    <tr>\n",
       "      <th>mean</th>\n",
       "      <td>6000.50000</td>\n",
       "      <td>1.379279e+09</td>\n",
       "      <td>0.249500</td>\n",
       "      <td>0.149333</td>\n",
       "      <td>141.884583</td>\n",
       "      <td>5962.957145</td>\n",
       "    </tr>\n",
       "    <tr>\n",
       "      <th>std</th>\n",
       "      <td>3464.24595</td>\n",
       "      <td>1.953116e+07</td>\n",
       "      <td>0.432742</td>\n",
       "      <td>0.356432</td>\n",
       "      <td>124.056723</td>\n",
       "      <td>3383.761968</td>\n",
       "    </tr>\n",
       "    <tr>\n",
       "      <th>min</th>\n",
       "      <td>1.00000</td>\n",
       "      <td>1.338452e+09</td>\n",
       "      <td>0.000000</td>\n",
       "      <td>0.000000</td>\n",
       "      <td>0.000000</td>\n",
       "      <td>3.000000</td>\n",
       "    </tr>\n",
       "    <tr>\n",
       "      <th>25%</th>\n",
       "      <td>3000.75000</td>\n",
       "      <td>1.363195e+09</td>\n",
       "      <td>0.000000</td>\n",
       "      <td>0.000000</td>\n",
       "      <td>29.000000</td>\n",
       "      <td>3058.000000</td>\n",
       "    </tr>\n",
       "    <tr>\n",
       "      <th>50%</th>\n",
       "      <td>6000.50000</td>\n",
       "      <td>1.382888e+09</td>\n",
       "      <td>0.000000</td>\n",
       "      <td>0.000000</td>\n",
       "      <td>108.000000</td>\n",
       "      <td>5954.000000</td>\n",
       "    </tr>\n",
       "    <tr>\n",
       "      <th>75%</th>\n",
       "      <td>9000.25000</td>\n",
       "      <td>1.398443e+09</td>\n",
       "      <td>0.000000</td>\n",
       "      <td>0.000000</td>\n",
       "      <td>238.250000</td>\n",
       "      <td>8817.000000</td>\n",
       "    </tr>\n",
       "    <tr>\n",
       "      <th>max</th>\n",
       "      <td>12000.00000</td>\n",
       "      <td>1.402067e+09</td>\n",
       "      <td>1.000000</td>\n",
       "      <td>1.000000</td>\n",
       "      <td>416.000000</td>\n",
       "      <td>11999.000000</td>\n",
       "    </tr>\n",
       "  </tbody>\n",
       "</table>\n",
       "</div>"
      ],
      "text/plain": [
       "         object_id  last_session_creation_time  opted_in_to_mailing_list  \\\n",
       "count  12000.00000                8.823000e+03              12000.000000   \n",
       "mean    6000.50000                1.379279e+09                  0.249500   \n",
       "std     3464.24595                1.953116e+07                  0.432742   \n",
       "min        1.00000                1.338452e+09                  0.000000   \n",
       "25%     3000.75000                1.363195e+09                  0.000000   \n",
       "50%     6000.50000                1.382888e+09                  0.000000   \n",
       "75%     9000.25000                1.398443e+09                  0.000000   \n",
       "max    12000.00000                1.402067e+09                  1.000000   \n",
       "\n",
       "       enabled_for_marketing_drip        org_id  invited_by_user_id  \n",
       "count                12000.000000  12000.000000         6417.000000  \n",
       "mean                     0.149333    141.884583         5962.957145  \n",
       "std                      0.356432    124.056723         3383.761968  \n",
       "min                      0.000000      0.000000            3.000000  \n",
       "25%                      0.000000     29.000000         3058.000000  \n",
       "50%                      0.000000    108.000000         5954.000000  \n",
       "75%                      0.000000    238.250000         8817.000000  \n",
       "max                      1.000000    416.000000        11999.000000  "
      ]
     },
     "execution_count": 13,
     "metadata": {},
     "output_type": "execute_result"
    }
   ],
   "source": [
    "# Call .describe() on user_data\n",
    "\n",
    "user_data.describe()"
   ]
  },
  {
   "cell_type": "code",
   "execution_count": 14,
   "id": "8fd45f77-19ae-4f56-9a9b-51729696e3f2",
   "metadata": {},
   "outputs": [
    {
     "data": {
      "text/plain": [
       "time_stamp    0\n",
       "user_id       0\n",
       "visited       0\n",
       "dtype: int64"
      ]
     },
     "execution_count": 14,
     "metadata": {},
     "output_type": "execute_result"
    }
   ],
   "source": [
    "# Utilize .isnull().sum() to check for mising values\n",
    "\n",
    "engagement_data.isnull().sum()"
   ]
  },
  {
   "cell_type": "code",
   "execution_count": 15,
   "id": "1aea3ecf-8ce5-48e7-b9bf-3d3ba3844239",
   "metadata": {},
   "outputs": [
    {
     "data": {
      "text/plain": [
       "object_id                        0\n",
       "creation_time                    0\n",
       "name                             0\n",
       "email                            0\n",
       "creation_source                  0\n",
       "last_session_creation_time    3177\n",
       "opted_in_to_mailing_list         0\n",
       "enabled_for_marketing_drip       0\n",
       "org_id                           0\n",
       "invited_by_user_id            5583\n",
       "dtype: int64"
      ]
     },
     "execution_count": 15,
     "metadata": {},
     "output_type": "execute_result"
    }
   ],
   "source": [
    "user_data.isnull().sum()"
   ]
  },
  {
   "cell_type": "markdown",
   "id": "505b6fde-98c9-4e97-83b3-10dd00f09d44",
   "metadata": {},
   "source": [
    "### **Part 2 - Defining \"Adopted User\"**"
   ]
  },
  {
   "cell_type": "markdown",
   "id": "f2cb35b7-54c0-46a0-8ace-698288785cae",
   "metadata": {},
   "source": [
    "In order to define the Adopted User, I'll start by using the takehome_user_engagement dataset, which I defined as 'engagement_data'. "
   ]
  },
  {
   "cell_type": "code",
   "execution_count": 18,
   "id": "a03c2938-85d2-4606-b19c-6bbc44be01ce",
   "metadata": {},
   "outputs": [],
   "source": [
    "# Convert the time_stamps in engagement_data into a datetime format.\n",
    "\n",
    "from datetime import timedelta\n",
    "engagement_data['date'] = pd.to_datetime(engagement_data['time_stamp'])\n",
    "engagement_data = engagement_data.sort_values(['user_id', 'date'])\n",
    "\n",
    "# Group by user_id in order to check for login actiities\n",
    "\n",
    "engagement_data = engagement_data.set_index('date')\n",
    "\n",
    "engagement_data['login_count_in_7days'] = (\n",
    "    engagement_data.groupby('user_id')['visited']\n",
    "    .rolling('7D')\n",
    "    .count()\n",
    "    .reset_index(level=0, drop=True)\n",
    ")\n",
    "\n",
    "# Define a rolling 7 day window for each user and also count the distinct login days in this window\n",
    "\n",
    "adopted_users = engagement_data[engagement_data['login_count_in_7days'] >= 3]['user_id'].unique()"
   ]
  },
  {
   "cell_type": "markdown",
   "id": "22eb9368-5ba2-48d8-b105-db91130ee2b0",
   "metadata": {},
   "source": [
    "### **Part 3 - Merge the Datasets**"
   ]
  },
  {
   "cell_type": "markdown",
   "id": "c7554eff-dedf-477f-877c-321bae754b08",
   "metadata": {},
   "source": [
    "Here, we will connect the user data with the adopted user data. Our focus is to add a new column named, 'is_adopted_user', to the takehome_users dataset, which we currently assinged to 'user_data'."
   ]
  },
  {
   "cell_type": "code",
   "execution_count": 21,
   "id": "b17e3c4a-3a40-4bc2-801f-169f28966dcd",
   "metadata": {},
   "outputs": [],
   "source": [
    "user_data['is_adopted_user'] = user_data['object_id'].isin(adopted_users).astype(int)"
   ]
  },
  {
   "cell_type": "code",
   "execution_count": 22,
   "id": "15e90cd6-14fa-4c29-8c93-85f5c61de825",
   "metadata": {},
   "outputs": [
    {
     "data": {
      "text/html": [
       "<div>\n",
       "<style scoped>\n",
       "    .dataframe tbody tr th:only-of-type {\n",
       "        vertical-align: middle;\n",
       "    }\n",
       "\n",
       "    .dataframe tbody tr th {\n",
       "        vertical-align: top;\n",
       "    }\n",
       "\n",
       "    .dataframe thead th {\n",
       "        text-align: right;\n",
       "    }\n",
       "</style>\n",
       "<table border=\"1\" class=\"dataframe\">\n",
       "  <thead>\n",
       "    <tr style=\"text-align: right;\">\n",
       "      <th></th>\n",
       "      <th>object_id</th>\n",
       "      <th>creation_time</th>\n",
       "      <th>name</th>\n",
       "      <th>email</th>\n",
       "      <th>creation_source</th>\n",
       "      <th>last_session_creation_time</th>\n",
       "      <th>opted_in_to_mailing_list</th>\n",
       "      <th>enabled_for_marketing_drip</th>\n",
       "      <th>org_id</th>\n",
       "      <th>invited_by_user_id</th>\n",
       "      <th>is_adopted_user</th>\n",
       "    </tr>\n",
       "  </thead>\n",
       "  <tbody>\n",
       "    <tr>\n",
       "      <th>0</th>\n",
       "      <td>1</td>\n",
       "      <td>2014-04-22 03:53:30</td>\n",
       "      <td>Clausen August</td>\n",
       "      <td>AugustCClausen@yahoo.com</td>\n",
       "      <td>GUEST_INVITE</td>\n",
       "      <td>1.398139e+09</td>\n",
       "      <td>1</td>\n",
       "      <td>0</td>\n",
       "      <td>11</td>\n",
       "      <td>10803.0</td>\n",
       "      <td>0</td>\n",
       "    </tr>\n",
       "    <tr>\n",
       "      <th>1</th>\n",
       "      <td>2</td>\n",
       "      <td>2013-11-15 03:45:04</td>\n",
       "      <td>Poole Matthew</td>\n",
       "      <td>MatthewPoole@gustr.com</td>\n",
       "      <td>ORG_INVITE</td>\n",
       "      <td>1.396238e+09</td>\n",
       "      <td>0</td>\n",
       "      <td>0</td>\n",
       "      <td>1</td>\n",
       "      <td>316.0</td>\n",
       "      <td>1</td>\n",
       "    </tr>\n",
       "    <tr>\n",
       "      <th>2</th>\n",
       "      <td>3</td>\n",
       "      <td>2013-03-19 23:14:52</td>\n",
       "      <td>Bottrill Mitchell</td>\n",
       "      <td>MitchellBottrill@gustr.com</td>\n",
       "      <td>ORG_INVITE</td>\n",
       "      <td>1.363735e+09</td>\n",
       "      <td>0</td>\n",
       "      <td>0</td>\n",
       "      <td>94</td>\n",
       "      <td>1525.0</td>\n",
       "      <td>0</td>\n",
       "    </tr>\n",
       "    <tr>\n",
       "      <th>3</th>\n",
       "      <td>4</td>\n",
       "      <td>2013-05-21 08:09:28</td>\n",
       "      <td>Clausen Nicklas</td>\n",
       "      <td>NicklasSClausen@yahoo.com</td>\n",
       "      <td>GUEST_INVITE</td>\n",
       "      <td>1.369210e+09</td>\n",
       "      <td>0</td>\n",
       "      <td>0</td>\n",
       "      <td>1</td>\n",
       "      <td>5151.0</td>\n",
       "      <td>0</td>\n",
       "    </tr>\n",
       "    <tr>\n",
       "      <th>4</th>\n",
       "      <td>5</td>\n",
       "      <td>2013-01-17 10:14:20</td>\n",
       "      <td>Raw Grace</td>\n",
       "      <td>GraceRaw@yahoo.com</td>\n",
       "      <td>GUEST_INVITE</td>\n",
       "      <td>1.358850e+09</td>\n",
       "      <td>0</td>\n",
       "      <td>0</td>\n",
       "      <td>193</td>\n",
       "      <td>5240.0</td>\n",
       "      <td>0</td>\n",
       "    </tr>\n",
       "  </tbody>\n",
       "</table>\n",
       "</div>"
      ],
      "text/plain": [
       "   object_id        creation_time               name  \\\n",
       "0          1  2014-04-22 03:53:30     Clausen August   \n",
       "1          2  2013-11-15 03:45:04      Poole Matthew   \n",
       "2          3  2013-03-19 23:14:52  Bottrill Mitchell   \n",
       "3          4  2013-05-21 08:09:28    Clausen Nicklas   \n",
       "4          5  2013-01-17 10:14:20          Raw Grace   \n",
       "\n",
       "                        email creation_source  last_session_creation_time  \\\n",
       "0    AugustCClausen@yahoo.com    GUEST_INVITE                1.398139e+09   \n",
       "1      MatthewPoole@gustr.com      ORG_INVITE                1.396238e+09   \n",
       "2  MitchellBottrill@gustr.com      ORG_INVITE                1.363735e+09   \n",
       "3   NicklasSClausen@yahoo.com    GUEST_INVITE                1.369210e+09   \n",
       "4          GraceRaw@yahoo.com    GUEST_INVITE                1.358850e+09   \n",
       "\n",
       "   opted_in_to_mailing_list  enabled_for_marketing_drip  org_id  \\\n",
       "0                         1                           0      11   \n",
       "1                         0                           0       1   \n",
       "2                         0                           0      94   \n",
       "3                         0                           0       1   \n",
       "4                         0                           0     193   \n",
       "\n",
       "   invited_by_user_id  is_adopted_user  \n",
       "0             10803.0                0  \n",
       "1               316.0                1  \n",
       "2              1525.0                0  \n",
       "3              5151.0                0  \n",
       "4              5240.0                0  "
      ]
     },
     "execution_count": 22,
     "metadata": {},
     "output_type": "execute_result"
    }
   ],
   "source": [
    "# Call .head() on user_data to ensure that the 'is_adopted_user' column was added\n",
    "\n",
    "user_data.head()"
   ]
  },
  {
   "cell_type": "markdown",
   "id": "2df3c8f7-01c4-4540-8683-281af999e177",
   "metadata": {},
   "source": [
    "### **Part 4 - Create Visualizations to Inspect Predictive Features**"
   ]
  },
  {
   "cell_type": "markdown",
   "id": "b581f6c5-68eb-4270-a863-bf82f517b440",
   "metadata": {},
   "source": [
    "The main goal of this step is to create a visualization that displays the relationship between user adoption and key features. Below, I used a barplot to show how a users adoption varied based on how they original became users in the first place. It seems that users that signed up via Google authorization, or guest invite were the most likely to be adopted. "
   ]
  },
  {
   "cell_type": "code",
   "execution_count": 25,
   "id": "8827d5c8-71a2-4252-8198-6b115d32ef90",
   "metadata": {},
   "outputs": [
    {
     "data": {
      "image/png": "[encoded data removed]",
      "text/plain": [
       "<Figure size 1200x600 with 1 Axes>"
      ]
     },
     "metadata": {},
     "output_type": "display_data"
    }
   ],
   "source": [
    "# Set the figure size\n",
    "\n",
    "plt.figure(figsize=(12, 6))  # Increase width and height as needed\n",
    "\n",
    "# Create the barplot\n",
    "\n",
    "sns.barplot(data=user_data, x='creation_source', y='is_adopted_user')\n",
    "\n",
    "# Rotate x-axis labels for better readability\n",
    "\n",
    "plt.xticks(rotation=45)  \n",
    "\n",
    "# Display the plot\n",
    "\n",
    "plt.show()"
   ]
  },
  {
   "cell_type": "markdown",
   "id": "1e1b663a-992e-4de9-a86e-67c6d2c0d845",
   "metadata": {},
   "source": [
    "### **Part 5 - Build a Simple Predictive Model**"
   ]
  },
  {
   "cell_type": "markdown",
   "id": "37019af9-35d8-4155-8626-dc4e703fcbea",
   "metadata": {},
   "source": [
    "My focus in this next step will be to build a simple model that will help reveal the predictive power of the features. I'll start by one hot encoding my categorical columns. Next, I'll normalize the numerical columns. Then, I'll use a RandomForestClassifier to build a model."
   ]
  },
  {
   "cell_type": "code",
   "execution_count": 28,
   "id": "1fc37a02-48e6-40da-956a-81166078267f",
   "metadata": {},
   "outputs": [],
   "source": [
    "# Define categorical and numerical columns\n",
    "\n",
    "categorical_columns = ['creation_source', 'creation_time', 'name']\n",
    "numerical_columns = ['last_session_creation_time', 'invited_by_user_id', 'object_id', 'opted_in_to_mailing_list', 'enabled_for_marketing_drip', 'org_id']\n",
    "\n",
    "# One-hot encode categorical variables\n",
    "\n",
    "encoded_user_data = pd.get_dummies(user_data[categorical_columns], drop_first=True)\n",
    "user_data = user_data.drop(columns=categorical_columns)\n",
    "user_data = user_data.drop(columns='email')\n",
    "user_data = pd.concat([user_data, encoded_user_data], axis=1)"
   ]
  },
  {
   "cell_type": "code",
   "execution_count": 29,
   "id": "dff144ba-a59c-4d82-b133-04c9c876624d",
   "metadata": {},
   "outputs": [
    {
     "name": "stdout",
     "output_type": "stream",
     "text": [
      "<class 'pandas.core.frame.DataFrame'>\n",
      "RangeIndex: 12000 entries, 0 to 11999\n",
      "Columns: 23360 entries, object_id to name_Østergaard Torben\n",
      "dtypes: bool(23353), float64(2), int32(1), int64(4)\n",
      "memory usage: 267.8 MB\n",
      "None\n"
     ]
    }
   ],
   "source": [
    "# Check that the categorical columns were one hot encoded\n",
    "\n",
    "print(user_data.info())"
   ]
  },
  {
   "cell_type": "code",
   "execution_count": 30,
   "id": "594f8fba-9539-473f-9304-bc9327c8a1d6",
   "metadata": {},
   "outputs": [
    {
     "name": "stdout",
     "output_type": "stream",
     "text": [
      "   object_id  last_session_creation_time  opted_in_to_mailing_list  \\\n",
      "0          1                1.398139e+09                         1   \n",
      "1          2                1.396238e+09                         0   \n",
      "2          3                1.363735e+09                         0   \n",
      "3          4                1.369210e+09                         0   \n",
      "4          5                1.358850e+09                         0   \n",
      "\n",
      "   enabled_for_marketing_drip  org_id  invited_by_user_id  is_adopted_user  \\\n",
      "0                           0      11             10803.0                0   \n",
      "1                           0       1               316.0                1   \n",
      "2                           0      94              1525.0                0   \n",
      "3                           0       1              5151.0                0   \n",
      "4                           0     193              5240.0                0   \n",
      "\n",
      "   creation_source_ORG_INVITE  creation_source_PERSONAL_PROJECTS  \\\n",
      "0                       False                              False   \n",
      "1                        True                              False   \n",
      "2                        True                              False   \n",
      "3                       False                              False   \n",
      "4                       False                              False   \n",
      "\n",
      "   creation_source_SIGNUP  ...  name_Østergaard Liva  name_Østergaard Maja  \\\n",
      "0                   False  ...                 False                 False   \n",
      "1                   False  ...                 False                 False   \n",
      "2                   False  ...                 False                 False   \n",
      "3                   False  ...                 False                 False   \n",
      "4                   False  ...                 False                 False   \n",
      "\n",
      "   name_Østergaard Malene  name_Østergaard Mathilde  name_Østergaard Mike  \\\n",
      "0                   False                     False                 False   \n",
      "1                   False                     False                 False   \n",
      "2                   False                     False                 False   \n",
      "3                   False                     False                 False   \n",
      "4                   False                     False                 False   \n",
      "\n",
      "   name_Østergaard Niels  name_Østergaard Nina  name_Østergaard Sara  \\\n",
      "0                  False                 False                 False   \n",
      "1                  False                 False                 False   \n",
      "2                  False                 False                 False   \n",
      "3                  False                 False                 False   \n",
      "4                  False                 False                 False   \n",
      "\n",
      "   name_Østergaard Tilde  name_Østergaard Torben  \n",
      "0                  False                   False  \n",
      "1                  False                   False  \n",
      "2                  False                   False  \n",
      "3                  False                   False  \n",
      "4                  False                   False  \n",
      "\n",
      "[5 rows x 23360 columns]\n"
     ]
    }
   ],
   "source": [
    "print(user_data.head())"
   ]
  },
  {
   "cell_type": "code",
   "execution_count": 31,
   "id": "27d56216-c723-4efd-87de-6e40ebe8bfb8",
   "metadata": {},
   "outputs": [
    {
     "name": "stdout",
     "output_type": "stream",
     "text": [
      "   object_id  last_session_creation_time  opted_in_to_mailing_list  \\\n",
      "0   0.000000                    0.938254                       1.0   \n",
      "1   0.000083                    0.908366                       0.0   \n",
      "2   0.000167                    0.397434                       0.0   \n",
      "3   0.000250                    0.483504                       0.0   \n",
      "4   0.000333                    0.320639                       0.0   \n",
      "\n",
      "   enabled_for_marketing_drip    org_id  invited_by_user_id  is_adopted_user  \\\n",
      "0                         0.0  0.026442            0.900300                0   \n",
      "1                         0.0  0.002404            0.026092                1   \n",
      "2                         0.0  0.225962            0.126876                0   \n",
      "3                         0.0  0.002404            0.429143                0   \n",
      "4                         0.0  0.463942            0.436562                0   \n",
      "\n",
      "   creation_source_ORG_INVITE  creation_source_PERSONAL_PROJECTS  \\\n",
      "0                       False                              False   \n",
      "1                        True                              False   \n",
      "2                        True                              False   \n",
      "3                       False                              False   \n",
      "4                       False                              False   \n",
      "\n",
      "   creation_source_SIGNUP  ...  name_Østergaard Liva  name_Østergaard Maja  \\\n",
      "0                   False  ...                 False                 False   \n",
      "1                   False  ...                 False                 False   \n",
      "2                   False  ...                 False                 False   \n",
      "3                   False  ...                 False                 False   \n",
      "4                   False  ...                 False                 False   \n",
      "\n",
      "   name_Østergaard Malene  name_Østergaard Mathilde  name_Østergaard Mike  \\\n",
      "0                   False                     False                 False   \n",
      "1                   False                     False                 False   \n",
      "2                   False                     False                 False   \n",
      "3                   False                     False                 False   \n",
      "4                   False                     False                 False   \n",
      "\n",
      "   name_Østergaard Niels  name_Østergaard Nina  name_Østergaard Sara  \\\n",
      "0                  False                 False                 False   \n",
      "1                  False                 False                 False   \n",
      "2                  False                 False                 False   \n",
      "3                  False                 False                 False   \n",
      "4                  False                 False                 False   \n",
      "\n",
      "   name_Østergaard Tilde  name_Østergaard Torben  \n",
      "0                  False                   False  \n",
      "1                  False                   False  \n",
      "2                  False                   False  \n",
      "3                  False                   False  \n",
      "4                  False                   False  \n",
      "\n",
      "[5 rows x 23360 columns]\n"
     ]
    }
   ],
   "source": [
    "# Normalize numerical columns\n",
    "\n",
    "from sklearn.preprocessing import MinMaxScaler\n",
    "\n",
    "scaler = MinMaxScaler()\n",
    "user_data[numerical_columns] = scaler.fit_transform(user_data[numerical_columns])\n",
    "\n",
    "# Verify the results\n",
    "\n",
    "print(user_data.head())"
   ]
  },
  {
   "cell_type": "code",
   "execution_count": 32,
   "id": "e9adc371-3b28-49ef-8cad-e8f3e4d8e5af",
   "metadata": {},
   "outputs": [
    {
     "name": "stdout",
     "output_type": "stream",
     "text": [
      "              precision    recall  f1-score   support\n",
      "\n",
      "           0       0.86      1.00      0.93      2074\n",
      "           1       0.67      0.01      0.01       326\n",
      "\n",
      "    accuracy                           0.86      2400\n",
      "   macro avg       0.77      0.50      0.47      2400\n",
      "weighted avg       0.84      0.86      0.80      2400\n",
      "\n"
     ]
    }
   ],
   "source": [
    "from sklearn.model_selection import train_test_split\n",
    "from sklearn.linear_model import LogisticRegression\n",
    "from sklearn.metrics import classification_report\n",
    "from sklearn.impute import SimpleImputer\n",
    "\n",
    "# Define features and the target\n",
    "\n",
    "X = user_data.drop(columns=['object_id', 'org_id', 'invited_by_user_id', 'is_adopted_user'], errors='ignore')\n",
    "y = user_data['is_adopted_user']\n",
    "\n",
    "# Handle any missing values in the data\n",
    "\n",
    "imputer = SimpleImputer(strategy='mean')  '\n",
    "X = pd.DataFrame(imputer.fit_transform(X), columns=X.columns)\n",
    "\n",
    "# Split the data into training and test sets\n",
    "\n",
    "X_train, X_test, y_train, y_test = train_test_split(X, y, test_size=0.2, random_state=42)\n",
    "\n",
    "# Initialize and train the logistic regression model\n",
    "\n",
    "model = LogisticRegression(random_state=42, max_iter=1000)\n",
    "model.fit(X_train, y_train)\n",
    "\n",
    "# Evaluate the model usinga  classification report\n",
    "\n",
    "y_pred = model.predict(X_test)\n",
    "print(classification_report(y_test, y_pred))\n"
   ]
  },
  {
   "cell_type": "markdown",
   "id": "7f061b81-711c-4388-a16b-a2ba69805f58",
   "metadata": {},
   "source": [
    "## **Part 6 - Summary of Findings**"
   ]
  },
  {
   "cell_type": "markdown",
   "id": "a6b8f74c-ebf3-4ca6-a646-1941a27ef5c2",
   "metadata": {},
   "source": [
    "Based on the evaluation metrics, it seems that the model is better at predicting non adopted users versus adopted users. The model's precision when predicting class 0 (non adopted users) is 0.86. In contrast, class 1 (adopted users) has a precision of 0.67. This means that we could run into false positives where the model incorrectly identifies users that were not actually adopted. The model's accuracy is 0.86 which seems decently helpful, but the data seems to be imbalanced, so this accuracy can be misleading. Our F1 Score and Recall both show strong results for identifying class 0 (non adopted users), but extremely poor results when predicting class 1 (adopted users). This is largely due to the fact that the dataset seems to be highly imbalanced, having far more samples that support class 0 (2074) versus class 1 (326). Also, the barplot that I created aboved showed that 'creation_source' was useful in helping predict whether a user was adopted or not. ULtimately, this model performs well with predicting non adopted users, but very poorly with predicting adopted users. The next steps that I would take would likely be techniques that address the class imbalance in the data. "
   ]
  }
 ],
 "metadata": {
  "kernelspec": {
   "display_name": "Python 3 (ipykernel)",
   "language": "python",
   "name": "python3"
  },
  "language_info": {
   "codemirror_mode": {
    "name": "ipython",
    "version": 3
   },
   "file_extension": ".py",
   "mimetype": "text/x-python",
   "name": "python",
   "nbconvert_exporter": "python",
   "pygments_lexer": "ipython3",
   "version": "3.11.7"
  }
 },
 "nbformat": 4,
 "nbformat_minor": 5
}
