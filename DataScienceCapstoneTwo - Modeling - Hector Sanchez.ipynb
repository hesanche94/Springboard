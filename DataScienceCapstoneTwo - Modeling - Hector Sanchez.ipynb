{
 "cells": [
  {
   "cell_type": "code",
   "execution_count": null,
   "id": "8d03020a-e748-417d-833b-61aefba76e1f",
   "metadata": {},
   "outputs": [],
   "source": [
    "CAPSTONE TWO MODELING - HECTOR SANCHEZ"
   ]
  },
  {
   "cell_type": "code",
   "execution_count": 9,
   "id": "5c9c0530-7f0a-40fd-b844-672c112c645f",
   "metadata": {},
   "outputs": [],
   "source": [
    "# Begin by importing necessary libraries for modeling\n",
    "\n",
    "import pandas as pd  # for data manipulation and analysis\n",
    "from sklearn.model_selection import train_test_split, cross_val_score # contains tools for model selection and evaluation\n",
    "from sklearn.linear_model import LogisticRegression # contains linear models like Logistic Regression\n",
    "from sklearn.ensemble import RandomForestClassifier, GradientBoostingClassifier # contains ensemble algorithms like Random Forest and Gradient Boosting\n",
    "from sklearn.metrics import accuracy_score, precision_score, recall_score, f1_score, confusion_matrix # provides metrics to evaluate model performance\n",
    "from sklearn.preprocessing import StandardScaler "
   ]
  },
  {
   "cell_type": "code",
   "execution_count": 11,
   "id": "c2094dcf-e164-4e79-a775-45d3502e9244",
   "metadata": {},
   "outputs": [],
   "source": [
    "# Next, we will load the preprocessed data that we worked on in the previous preprocessing step\n",
    "# We saved our preprocessed data as CSV files in the previous step\n",
    "\n",
    "# Load features (X) and target (y) for training and testing sets\n",
    "\n",
    "X_train = pd.read_csv('C:/Users/hecsa/Springboard/Springboard Github/Springboard/DataScienceCapstoneTwo/X_train_preprocessed.csv')\n",
    "X_test = pd.read_csv('C:/Users/hecsa/Springboard/Springboard Github/Springboard/DataScienceCapstoneTwo/X_test_preprocessed.csv')\n",
    "y_train = pd.read_csv('C:/Users/hecsa/Springboard/Springboard Github/Springboard/DataScienceCapstoneTwo/y_train_preprocessed.csv')\n",
    "y_test = pd.read_csv('C:/Users/hecsa/Springboard/Springboard Github/Springboard/DataScienceCapstoneTwo/y_test_preprocessed.csv')"
   ]
  },
  {
   "cell_type": "code",
   "execution_count": 13,
   "id": "b6c5d9db-1656-4df8-9792-f320fd7cf776",
   "metadata": {},
   "outputs": [],
   "source": [
    "# If y_train and y_test are DataFrames, we need to convert them to Series\n",
    "\n",
    "y_train = y_train.iloc[:, 0]  # Assuming the target variable is the first column\n",
    "y_test = y_test.iloc[:, 0]"
   ]
  },
  {
   "cell_type": "code",
   "execution_count": 15,
   "id": "64c209fa-fb75-42d7-bfb1-e97abd362ff9",
   "metadata": {},
   "outputs": [
    {
     "name": "stdout",
     "output_type": "stream",
     "text": [
      "X_train shape: (815, 68)\n",
      "X_test shape: (204, 68)\n",
      "y_train shape: (815,)\n",
      "y_test shape: (204,)\n"
     ]
    }
   ],
   "source": [
    "# Verify the data shape of the data by calling .shape on the training and test sets.\n",
    "# This ensures that the data was loaded correctly\n",
    "# We will also check the head of the datasets by calling .head()\n",
    "\n",
    "print(\"X_train shape:\", X_train.shape)\n",
    "print(\"X_test shape:\", X_test.shape)\n",
    "print(\"y_train shape:\", y_train.shape)\n",
    "print(\"y_test shape:\", y_test.shape)"
   ]
  },
  {
   "cell_type": "code",
   "execution_count": 17,
   "id": "4b854e0c-c5c9-4c7b-9e48-5b2ad0f847e8",
   "metadata": {},
   "outputs": [
    {
     "name": "stdout",
     "output_type": "stream",
     "text": [
      "\n",
      "First five rows of X_train:\n",
      "   Sexo_-2.1316282072803005e-16  Sexo_0.7828813612588126  \\\n",
      "0                          True                    False   \n",
      "1                          True                    False   \n",
      "2                          True                    False   \n",
      "3                          True                    False   \n",
      "4                          True                    False   \n",
      "\n",
      "   Faixa_etaria_-1.0206207261596576  Faixa_etaria_0.0  \\\n",
      "0                             False             False   \n",
      "1                             False             False   \n",
      "2                             False             False   \n",
      "3                             False             False   \n",
      "4                             False             False   \n",
      "\n",
      "   Faixa_etaria_3.1086244689504386e-17  Faixa_etaria_1.0206207261596576  \\\n",
      "0                                 True                            False   \n",
      "1                                 True                            False   \n",
      "2                                 True                            False   \n",
      "3                                 True                            False   \n",
      "4                                 True                            False   \n",
      "\n",
      "   Faixa_etaria_2_2.2204460492503132e-17  Faixa_etaria_2_0.6236095644623236  \\\n",
      "0                                   True                              False   \n",
      "1                                   True                              False   \n",
      "2                                   True                              False   \n",
      "3                                   True                              False   \n",
      "4                                   True                              False   \n",
      "\n",
      "   Estado_Civil_1.0658141036401502e-16  Estado_Civil_0.0977972049958213  ...  \\\n",
      "0                                 True                            False  ...   \n",
      "1                                 True                            False  ...   \n",
      "2                                 True                            False  ...   \n",
      "3                                 True                            False  ...   \n",
      "4                                 True                            False  ...   \n",
      "\n",
      "   <b>Hemorrhagic stroke (n = 16)</b>  <b>Independent variable</b>  <b>B</b>  \\\n",
      "0                       -1.563383e-16                          0.0       0.0   \n",
      "1                       -1.563383e-16                          0.0       0.0   \n",
      "2                       -1.563383e-16                          0.0       0.0   \n",
      "3                       -1.563383e-16                          0.0       0.0   \n",
      "4                       -1.563383e-16                          0.0       0.0   \n",
      "\n",
      "      <b>SE</b>   <b>Wald</b>  <b><em>df</em></b>  <b>P</b>  \\\n",
      "0 -2.580198e-18 -2.580198e-18                 0.0       0.0   \n",
      "1 -2.580198e-18 -2.580198e-18                 0.0       0.0   \n",
      "2 -2.580198e-18 -2.580198e-18                 0.0       0.0   \n",
      "3 -2.580198e-18 -2.580198e-18                 0.0       0.0   \n",
      "4 -2.580198e-18 -2.580198e-18                 0.0       0.0   \n",
      "\n",
      "   <b>Odds ratio</b>  <b>95% CI</b>  Unnamed: 0  \n",
      "0      -5.755827e-18   2.414038e-16    0.871901  \n",
      "1      -5.755827e-18   2.414038e-16   -0.354209  \n",
      "2      -5.755827e-18   2.414038e-16   -2.000068  \n",
      "3      -5.755827e-18   2.414038e-16    1.888137  \n",
      "4      -5.755827e-18   2.414038e-16   -1.668687  \n",
      "\n",
      "[5 rows x 68 columns]\n"
     ]
    }
   ],
   "source": [
    "# Use .head() to print the first five rows of X_train\n",
    "\n",
    "print(\"\\nFirst five rows of X_train:\")\n",
    "print(X_train.head())"
   ]
  },
  {
   "cell_type": "code",
   "execution_count": 19,
   "id": "776b3a1a-a59e-4e5d-9bae-6a401fdd0ecb",
   "metadata": {},
   "outputs": [
    {
     "name": "stdout",
     "output_type": "stream",
     "text": [
      "\n",
      "First five rows of y_train:\n",
      "0    False\n",
      "1    False\n",
      "2    False\n",
      "3    False\n",
      "4    False\n",
      "Name: Desfecho_final_3.0, dtype: bool\n"
     ]
    }
   ],
   "source": [
    "# Use .head() to print the first five rows of y_train\n",
    "\n",
    "print(\"\\nFirst five rows of y_train:\")\n",
    "print(y_train.head())"
   ]
  },
  {
   "cell_type": "code",
   "execution_count": null,
   "id": "f4b30cba-ff55-497c-a176-1138a262254f",
   "metadata": {},
   "outputs": [],
   "source": [
    "# We are going to initialize and Train three Models:\n",
    "# 1. Logistic Regression\n",
    "# 2. Random Forest Classifier\n",
    "# 3. Gradiant Boosting Classifier"
   ]
  },
  {
   "cell_type": "code",
   "execution_count": 21,
   "id": "aacd4013-ad10-4c3e-8d9c-8b82ac3dc713",
   "metadata": {},
   "outputs": [],
   "source": [
    "# MODEL 1: LOGISTIC REGRESSION \n",
    "# This model is suitable for binary classification problems\n",
    "# Setting max_iter=1000 ensures that the model converges\n",
    "\n",
    "# Start by initializing the Logistic Regression model\n",
    "# We set max_iter to a higher value to ensure convergence\n",
    "\n",
    "log_model = LogisticRegression(max_iter=1000, random_state=42)"
   ]
  },
  {
   "cell_type": "code",
   "execution_count": 23,
   "id": "594d2ea7-d496-4db6-8ab7-d12db3c789e7",
   "metadata": {},
   "outputs": [
    {
     "data": {
      "text/html": [
       "<style>#sk-container-id-1 {color: black;background-color: white;}#sk-container-id-1 pre{padding: 0;}#sk-container-id-1 div.sk-toggleable {background-color: white;}#sk-container-id-1 label.sk-toggleable__label {cursor: pointer;display: block;width: 100%;margin-bottom: 0;padding: 0.3em;box-sizing: border-box;text-align: center;}#sk-container-id-1 label.sk-toggleable__label-arrow:before {content: \"▸\";float: left;margin-right: 0.25em;color: #696969;}#sk-container-id-1 label.sk-toggleable__label-arrow:hover:before {color: black;}#sk-container-id-1 div.sk-estimator:hover label.sk-toggleable__label-arrow:before {color: black;}#sk-container-id-1 div.sk-toggleable__content {max-height: 0;max-width: 0;overflow: hidden;text-align: left;background-color: #f0f8ff;}#sk-container-id-1 div.sk-toggleable__content pre {margin: 0.2em;color: black;border-radius: 0.25em;background-color: #f0f8ff;}#sk-container-id-1 input.sk-toggleable__control:checked~div.sk-toggleable__content {max-height: 200px;max-width: 100%;overflow: auto;}#sk-container-id-1 input.sk-toggleable__control:checked~label.sk-toggleable__label-arrow:before {content: \"▾\";}#sk-container-id-1 div.sk-estimator input.sk-toggleable__control:checked~label.sk-toggleable__label {background-color: #d4ebff;}#sk-container-id-1 div.sk-label input.sk-toggleable__control:checked~label.sk-toggleable__label {background-color: #d4ebff;}#sk-container-id-1 input.sk-hidden--visually {border: 0;clip: rect(1px 1px 1px 1px);clip: rect(1px, 1px, 1px, 1px);height: 1px;margin: -1px;overflow: hidden;padding: 0;position: absolute;width: 1px;}#sk-container-id-1 div.sk-estimator {font-family: monospace;background-color: #f0f8ff;border: 1px dotted black;border-radius: 0.25em;box-sizing: border-box;margin-bottom: 0.5em;}#sk-container-id-1 div.sk-estimator:hover {background-color: #d4ebff;}#sk-container-id-1 div.sk-parallel-item::after {content: \"\";width: 100%;border-bottom: 1px solid gray;flex-grow: 1;}#sk-container-id-1 div.sk-label:hover label.sk-toggleable__label {background-color: #d4ebff;}#sk-container-id-1 div.sk-serial::before {content: \"\";position: absolute;border-left: 1px solid gray;box-sizing: border-box;top: 0;bottom: 0;left: 50%;z-index: 0;}#sk-container-id-1 div.sk-serial {display: flex;flex-direction: column;align-items: center;background-color: white;padding-right: 0.2em;padding-left: 0.2em;position: relative;}#sk-container-id-1 div.sk-item {position: relative;z-index: 1;}#sk-container-id-1 div.sk-parallel {display: flex;align-items: stretch;justify-content: center;background-color: white;position: relative;}#sk-container-id-1 div.sk-item::before, #sk-container-id-1 div.sk-parallel-item::before {content: \"\";position: absolute;border-left: 1px solid gray;box-sizing: border-box;top: 0;bottom: 0;left: 50%;z-index: -1;}#sk-container-id-1 div.sk-parallel-item {display: flex;flex-direction: column;z-index: 1;position: relative;background-color: white;}#sk-container-id-1 div.sk-parallel-item:first-child::after {align-self: flex-end;width: 50%;}#sk-container-id-1 div.sk-parallel-item:last-child::after {align-self: flex-start;width: 50%;}#sk-container-id-1 div.sk-parallel-item:only-child::after {width: 0;}#sk-container-id-1 div.sk-dashed-wrapped {border: 1px dashed gray;margin: 0 0.4em 0.5em 0.4em;box-sizing: border-box;padding-bottom: 0.4em;background-color: white;}#sk-container-id-1 div.sk-label label {font-family: monospace;font-weight: bold;display: inline-block;line-height: 1.2em;}#sk-container-id-1 div.sk-label-container {text-align: center;}#sk-container-id-1 div.sk-container {/* jupyter's `normalize.less` sets `[hidden] { display: none; }` but bootstrap.min.css set `[hidden] { display: none !important; }` so we also need the `!important` here to be able to override the default hidden behavior on the sphinx rendered scikit-learn.org. See: https://github.com/scikit-learn/scikit-learn/issues/21755 */display: inline-block !important;position: relative;}#sk-container-id-1 div.sk-text-repr-fallback {display: none;}</style><div id=\"sk-container-id-1\" class=\"sk-top-container\"><div class=\"sk-text-repr-fallback\"><pre>LogisticRegression(max_iter=1000, random_state=42)</pre><b>In a Jupyter environment, please rerun this cell to show the HTML representation or trust the notebook. <br />On GitHub, the HTML representation is unable to render, please try loading this page with nbviewer.org.</b></div><div class=\"sk-container\" hidden><div class=\"sk-item\"><div class=\"sk-estimator sk-toggleable\"><input class=\"sk-toggleable__control sk-hidden--visually\" id=\"sk-estimator-id-1\" type=\"checkbox\" checked><label for=\"sk-estimator-id-1\" class=\"sk-toggleable__label sk-toggleable__label-arrow\">LogisticRegression</label><div class=\"sk-toggleable__content\"><pre>LogisticRegression(max_iter=1000, random_state=42)</pre></div></div></div></div></div>"
      ],
      "text/plain": [
       "LogisticRegression(max_iter=1000, random_state=42)"
      ]
     },
     "execution_count": 23,
     "metadata": {},
     "output_type": "execute_result"
    }
   ],
   "source": [
    "# Fit the model on the training data\n",
    "\n",
    "log_model.fit(X_train, y_train)"
   ]
  },
  {
   "cell_type": "code",
   "execution_count": 25,
   "id": "fd8ca106-deb3-4825-b4df-2a77c50b6e99",
   "metadata": {},
   "outputs": [],
   "source": [
    "# MODEL 2: RANDOM FOREST CLASSIFIER\n",
    "# This is an ensemble method that uses multiple decision trees\n",
    "# Setting n_estimators=100 specifies the number of trees in the forest\n",
    "\n",
    "# Similar to the last model, start by initializing the Random Forest model\n",
    "\n",
    "rf_model = RandomForestClassifier(n_estimators=100, random_state=42)"
   ]
  },
  {
   "cell_type": "code",
   "execution_count": 29,
   "id": "ee840b55-dc2e-4c64-85bc-d815b021eff4",
   "metadata": {},
   "outputs": [
    {
     "data": {
      "text/html": [
       "<style>#sk-container-id-2 {color: black;background-color: white;}#sk-container-id-2 pre{padding: 0;}#sk-container-id-2 div.sk-toggleable {background-color: white;}#sk-container-id-2 label.sk-toggleable__label {cursor: pointer;display: block;width: 100%;margin-bottom: 0;padding: 0.3em;box-sizing: border-box;text-align: center;}#sk-container-id-2 label.sk-toggleable__label-arrow:before {content: \"▸\";float: left;margin-right: 0.25em;color: #696969;}#sk-container-id-2 label.sk-toggleable__label-arrow:hover:before {color: black;}#sk-container-id-2 div.sk-estimator:hover label.sk-toggleable__label-arrow:before {color: black;}#sk-container-id-2 div.sk-toggleable__content {max-height: 0;max-width: 0;overflow: hidden;text-align: left;background-color: #f0f8ff;}#sk-container-id-2 div.sk-toggleable__content pre {margin: 0.2em;color: black;border-radius: 0.25em;background-color: #f0f8ff;}#sk-container-id-2 input.sk-toggleable__control:checked~div.sk-toggleable__content {max-height: 200px;max-width: 100%;overflow: auto;}#sk-container-id-2 input.sk-toggleable__control:checked~label.sk-toggleable__label-arrow:before {content: \"▾\";}#sk-container-id-2 div.sk-estimator input.sk-toggleable__control:checked~label.sk-toggleable__label {background-color: #d4ebff;}#sk-container-id-2 div.sk-label input.sk-toggleable__control:checked~label.sk-toggleable__label {background-color: #d4ebff;}#sk-container-id-2 input.sk-hidden--visually {border: 0;clip: rect(1px 1px 1px 1px);clip: rect(1px, 1px, 1px, 1px);height: 1px;margin: -1px;overflow: hidden;padding: 0;position: absolute;width: 1px;}#sk-container-id-2 div.sk-estimator {font-family: monospace;background-color: #f0f8ff;border: 1px dotted black;border-radius: 0.25em;box-sizing: border-box;margin-bottom: 0.5em;}#sk-container-id-2 div.sk-estimator:hover {background-color: #d4ebff;}#sk-container-id-2 div.sk-parallel-item::after {content: \"\";width: 100%;border-bottom: 1px solid gray;flex-grow: 1;}#sk-container-id-2 div.sk-label:hover label.sk-toggleable__label {background-color: #d4ebff;}#sk-container-id-2 div.sk-serial::before {content: \"\";position: absolute;border-left: 1px solid gray;box-sizing: border-box;top: 0;bottom: 0;left: 50%;z-index: 0;}#sk-container-id-2 div.sk-serial {display: flex;flex-direction: column;align-items: center;background-color: white;padding-right: 0.2em;padding-left: 0.2em;position: relative;}#sk-container-id-2 div.sk-item {position: relative;z-index: 1;}#sk-container-id-2 div.sk-parallel {display: flex;align-items: stretch;justify-content: center;background-color: white;position: relative;}#sk-container-id-2 div.sk-item::before, #sk-container-id-2 div.sk-parallel-item::before {content: \"\";position: absolute;border-left: 1px solid gray;box-sizing: border-box;top: 0;bottom: 0;left: 50%;z-index: -1;}#sk-container-id-2 div.sk-parallel-item {display: flex;flex-direction: column;z-index: 1;position: relative;background-color: white;}#sk-container-id-2 div.sk-parallel-item:first-child::after {align-self: flex-end;width: 50%;}#sk-container-id-2 div.sk-parallel-item:last-child::after {align-self: flex-start;width: 50%;}#sk-container-id-2 div.sk-parallel-item:only-child::after {width: 0;}#sk-container-id-2 div.sk-dashed-wrapped {border: 1px dashed gray;margin: 0 0.4em 0.5em 0.4em;box-sizing: border-box;padding-bottom: 0.4em;background-color: white;}#sk-container-id-2 div.sk-label label {font-family: monospace;font-weight: bold;display: inline-block;line-height: 1.2em;}#sk-container-id-2 div.sk-label-container {text-align: center;}#sk-container-id-2 div.sk-container {/* jupyter's `normalize.less` sets `[hidden] { display: none; }` but bootstrap.min.css set `[hidden] { display: none !important; }` so we also need the `!important` here to be able to override the default hidden behavior on the sphinx rendered scikit-learn.org. See: https://github.com/scikit-learn/scikit-learn/issues/21755 */display: inline-block !important;position: relative;}#sk-container-id-2 div.sk-text-repr-fallback {display: none;}</style><div id=\"sk-container-id-2\" class=\"sk-top-container\"><div class=\"sk-text-repr-fallback\"><pre>RandomForestClassifier(random_state=42)</pre><b>In a Jupyter environment, please rerun this cell to show the HTML representation or trust the notebook. <br />On GitHub, the HTML representation is unable to render, please try loading this page with nbviewer.org.</b></div><div class=\"sk-container\" hidden><div class=\"sk-item\"><div class=\"sk-estimator sk-toggleable\"><input class=\"sk-toggleable__control sk-hidden--visually\" id=\"sk-estimator-id-2\" type=\"checkbox\" checked><label for=\"sk-estimator-id-2\" class=\"sk-toggleable__label sk-toggleable__label-arrow\">RandomForestClassifier</label><div class=\"sk-toggleable__content\"><pre>RandomForestClassifier(random_state=42)</pre></div></div></div></div></div>"
      ],
      "text/plain": [
       "RandomForestClassifier(random_state=42)"
      ]
     },
     "execution_count": 29,
     "metadata": {},
     "output_type": "execute_result"
    }
   ],
   "source": [
    "# Next, fit the model on the training data\n",
    "\n",
    "rf_model.fit(X_train, y_train)"
   ]
  },
  {
   "cell_type": "code",
   "execution_count": 31,
   "id": "1732b340-ab2a-4dfd-9200-c96d2dc84416",
   "metadata": {},
   "outputs": [],
   "source": [
    "# MODEL 3: GRADIENT BOOSTING CLASSIFIER\n",
    "# This is an ensemble method that builds trees sequentially to correct errosrs made by previous trees\n",
    "# n_estimators=100 specifies the number of boosting stages\n",
    "\n",
    "# Initialize the Gradient Boosting model as in the last 2 models\n",
    "\n",
    "gb_model = GradientBoostingClassifier(n_estimators=100, random_state=42)"
   ]
  },
  {
   "cell_type": "code",
   "execution_count": 33,
   "id": "62a94671-b829-4304-9a1c-7fbec42e185c",
   "metadata": {},
   "outputs": [
    {
     "data": {
      "text/html": [
       "<style>#sk-container-id-3 {color: black;background-color: white;}#sk-container-id-3 pre{padding: 0;}#sk-container-id-3 div.sk-toggleable {background-color: white;}#sk-container-id-3 label.sk-toggleable__label {cursor: pointer;display: block;width: 100%;margin-bottom: 0;padding: 0.3em;box-sizing: border-box;text-align: center;}#sk-container-id-3 label.sk-toggleable__label-arrow:before {content: \"▸\";float: left;margin-right: 0.25em;color: #696969;}#sk-container-id-3 label.sk-toggleable__label-arrow:hover:before {color: black;}#sk-container-id-3 div.sk-estimator:hover label.sk-toggleable__label-arrow:before {color: black;}#sk-container-id-3 div.sk-toggleable__content {max-height: 0;max-width: 0;overflow: hidden;text-align: left;background-color: #f0f8ff;}#sk-container-id-3 div.sk-toggleable__content pre {margin: 0.2em;color: black;border-radius: 0.25em;background-color: #f0f8ff;}#sk-container-id-3 input.sk-toggleable__control:checked~div.sk-toggleable__content {max-height: 200px;max-width: 100%;overflow: auto;}#sk-container-id-3 input.sk-toggleable__control:checked~label.sk-toggleable__label-arrow:before {content: \"▾\";}#sk-container-id-3 div.sk-estimator input.sk-toggleable__control:checked~label.sk-toggleable__label {background-color: #d4ebff;}#sk-container-id-3 div.sk-label input.sk-toggleable__control:checked~label.sk-toggleable__label {background-color: #d4ebff;}#sk-container-id-3 input.sk-hidden--visually {border: 0;clip: rect(1px 1px 1px 1px);clip: rect(1px, 1px, 1px, 1px);height: 1px;margin: -1px;overflow: hidden;padding: 0;position: absolute;width: 1px;}#sk-container-id-3 div.sk-estimator {font-family: monospace;background-color: #f0f8ff;border: 1px dotted black;border-radius: 0.25em;box-sizing: border-box;margin-bottom: 0.5em;}#sk-container-id-3 div.sk-estimator:hover {background-color: #d4ebff;}#sk-container-id-3 div.sk-parallel-item::after {content: \"\";width: 100%;border-bottom: 1px solid gray;flex-grow: 1;}#sk-container-id-3 div.sk-label:hover label.sk-toggleable__label {background-color: #d4ebff;}#sk-container-id-3 div.sk-serial::before {content: \"\";position: absolute;border-left: 1px solid gray;box-sizing: border-box;top: 0;bottom: 0;left: 50%;z-index: 0;}#sk-container-id-3 div.sk-serial {display: flex;flex-direction: column;align-items: center;background-color: white;padding-right: 0.2em;padding-left: 0.2em;position: relative;}#sk-container-id-3 div.sk-item {position: relative;z-index: 1;}#sk-container-id-3 div.sk-parallel {display: flex;align-items: stretch;justify-content: center;background-color: white;position: relative;}#sk-container-id-3 div.sk-item::before, #sk-container-id-3 div.sk-parallel-item::before {content: \"\";position: absolute;border-left: 1px solid gray;box-sizing: border-box;top: 0;bottom: 0;left: 50%;z-index: -1;}#sk-container-id-3 div.sk-parallel-item {display: flex;flex-direction: column;z-index: 1;position: relative;background-color: white;}#sk-container-id-3 div.sk-parallel-item:first-child::after {align-self: flex-end;width: 50%;}#sk-container-id-3 div.sk-parallel-item:last-child::after {align-self: flex-start;width: 50%;}#sk-container-id-3 div.sk-parallel-item:only-child::after {width: 0;}#sk-container-id-3 div.sk-dashed-wrapped {border: 1px dashed gray;margin: 0 0.4em 0.5em 0.4em;box-sizing: border-box;padding-bottom: 0.4em;background-color: white;}#sk-container-id-3 div.sk-label label {font-family: monospace;font-weight: bold;display: inline-block;line-height: 1.2em;}#sk-container-id-3 div.sk-label-container {text-align: center;}#sk-container-id-3 div.sk-container {/* jupyter's `normalize.less` sets `[hidden] { display: none; }` but bootstrap.min.css set `[hidden] { display: none !important; }` so we also need the `!important` here to be able to override the default hidden behavior on the sphinx rendered scikit-learn.org. See: https://github.com/scikit-learn/scikit-learn/issues/21755 */display: inline-block !important;position: relative;}#sk-container-id-3 div.sk-text-repr-fallback {display: none;}</style><div id=\"sk-container-id-3\" class=\"sk-top-container\"><div class=\"sk-text-repr-fallback\"><pre>GradientBoostingClassifier(random_state=42)</pre><b>In a Jupyter environment, please rerun this cell to show the HTML representation or trust the notebook. <br />On GitHub, the HTML representation is unable to render, please try loading this page with nbviewer.org.</b></div><div class=\"sk-container\" hidden><div class=\"sk-item\"><div class=\"sk-estimator sk-toggleable\"><input class=\"sk-toggleable__control sk-hidden--visually\" id=\"sk-estimator-id-3\" type=\"checkbox\" checked><label for=\"sk-estimator-id-3\" class=\"sk-toggleable__label sk-toggleable__label-arrow\">GradientBoostingClassifier</label><div class=\"sk-toggleable__content\"><pre>GradientBoostingClassifier(random_state=42)</pre></div></div></div></div></div>"
      ],
      "text/plain": [
       "GradientBoostingClassifier(random_state=42)"
      ]
     },
     "execution_count": 33,
     "metadata": {},
     "output_type": "execute_result"
    }
   ],
   "source": [
    "# Now fit the model on the training data\n",
    "\n",
    "gb_model.fit(X_train, y_train)"
   ]
  },
  {
   "cell_type": "code",
   "execution_count": null,
   "id": "6df9ce45-0fe5-46ee-ac94-9878f87fe997",
   "metadata": {},
   "outputs": [],
   "source": [
    "# Now that we've worked through our 3 models, we will Evaluate the models on the test set"
   ]
  },
  {
   "cell_type": "code",
   "execution_count": 35,
   "id": "ccd99d3d-32b0-4cd6-90b5-cfd13570b609",
   "metadata": {},
   "outputs": [],
   "source": [
    "# We will create a function to evaluate the performance of each model\n",
    "\n",
    "def evaluate_model(model, X_test, y_test):\n",
    "    \"\"\"\n",
    "    Evaluates the model's performance on the test set and returns evaluation metrics.\n",
    "    \"\"\"\n",
    "    predictions = model.predict(X_test)\n",
    "    accuracy = accuracy_score(y_test, predictions) # the proportion of correct predictions over total predictions\n",
    "    precision = precision_score(y_test, predictions, zero_division=0) # the ability of the classifier not to label a negative sample as positive\n",
    "    recall = recall_score(y_test, predictions, zero_division=0) # the ability of the classifier to find all the positive samples\n",
    "    f1 = f1_score(y_test, predictions, zero_division=0) # the mean of precision and recall\n",
    "    return accuracy, precision, recall, f1"
   ]
  },
  {
   "cell_type": "code",
   "execution_count": null,
   "id": "2a186601-e9c8-49f5-9d37-69409f6a5053",
   "metadata": {},
   "outputs": [],
   "source": [
    "# We will now use this function to individually evaluate each model"
   ]
  },
  {
   "cell_type": "code",
   "execution_count": 37,
   "id": "dcc5ba23-e242-4a27-a50a-14aed577c99f",
   "metadata": {},
   "outputs": [],
   "source": [
    "# Evaluate Logistic Regression model\n",
    "\n",
    "log_accuracy, log_precision, log_recall, log_f1 = evaluate_model(log_model, X_test, y_test)"
   ]
  },
  {
   "cell_type": "code",
   "execution_count": 39,
   "id": "6625ee13-efec-424e-84df-37f3b45d93b5",
   "metadata": {},
   "outputs": [],
   "source": [
    "# Evaluate Random Forest model\n",
    "\n",
    "rf_accuracy, rf_precision, rf_recall, rf_f1 = evaluate_model(rf_model, X_test, y_test)"
   ]
  },
  {
   "cell_type": "code",
   "execution_count": 41,
   "id": "92416253-6774-4117-8b86-d0a0d6238f3a",
   "metadata": {},
   "outputs": [],
   "source": [
    "# Evaluate Gradient Boosting model\n",
    "\n",
    "gb_accuracy, gb_precision, gb_recall, gb_f1 = evaluate_model(gb_model, X_test, y_test)"
   ]
  },
  {
   "cell_type": "code",
   "execution_count": 43,
   "id": "4d525948-88e4-43fb-8a36-6f4638baa21e",
   "metadata": {},
   "outputs": [
    {
     "name": "stdout",
     "output_type": "stream",
     "text": [
      "\n",
      "Model Evaluation Metrics:\n",
      "--------------------------------------------------\n",
      "Logistic Regression:\n",
      "Accuracy: 1.0000\n",
      "Precision: 1.0000\n",
      "Recall: 1.0000\n",
      "F1 Score: 1.0000\n",
      "--------------------------------------------------\n",
      "Random Forest:\n",
      "Accuracy: 0.9951\n",
      "Precision: 0.0000\n",
      "Recall: 0.0000\n",
      "F1 Score: 0.0000\n",
      "--------------------------------------------------\n",
      "Gradient Boosting:\n",
      "Accuracy: 1.0000\n",
      "Precision: 1.0000\n",
      "Recall: 1.0000\n",
      "F1 Score: 1.0000\n",
      "--------------------------------------------------\n"
     ]
    }
   ],
   "source": [
    "# Next, we need to display the results\n",
    "\n",
    "print(\"\\nModel Evaluation Metrics:\")\n",
    "print(\"--------------------------------------------------\")\n",
    "print(\"Logistic Regression:\")\n",
    "print(f\"Accuracy: {log_accuracy:.4f}\")\n",
    "print(f\"Precision: {log_precision:.4f}\")\n",
    "print(f\"Recall: {log_recall:.4f}\")\n",
    "print(f\"F1 Score: {log_f1:.4f}\")\n",
    "print(\"--------------------------------------------------\")\n",
    "print(\"Random Forest:\")\n",
    "print(f\"Accuracy: {rf_accuracy:.4f}\")\n",
    "print(f\"Precision: {rf_precision:.4f}\")\n",
    "print(f\"Recall: {rf_recall:.4f}\")\n",
    "print(f\"F1 Score: {rf_f1:.4f}\")\n",
    "print(\"--------------------------------------------------\")\n",
    "print(\"Gradient Boosting:\")\n",
    "print(f\"Accuracy: {gb_accuracy:.4f}\")\n",
    "print(f\"Precision: {gb_precision:.4f}\")\n",
    "print(f\"Recall: {gb_recall:.4f}\")\n",
    "print(f\"F1 Score: {gb_f1:.4f}\")\n",
    "print(\"--------------------------------------------------\")"
   ]
  },
  {
   "cell_type": "code",
   "execution_count": null,
   "id": "38d71868-57fa-47b7-b6ce-053038cb4b7b",
   "metadata": {},
   "outputs": [],
   "source": [
    "# WE now must choose the best model based on these evaluation metrics"
   ]
  },
  {
   "cell_type": "code",
   "execution_count": 45,
   "id": "51538632-935c-456f-9ac2-848dcd1c5a5d",
   "metadata": {},
   "outputs": [
    {
     "name": "stdout",
     "output_type": "stream",
     "text": [
      "\n",
      "Best model based on F1 Score: Logistic Regression\n"
     ]
    }
   ],
   "source": [
    "# We are choosing the model that has the highest F1 Score\n",
    "\n",
    "model_performance = {\n",
    "    'Logistic Regression': log_f1,\n",
    "    'Random Forest': rf_f1,\n",
    "    'Gradient Boosting': gb_f1\n",
    "}\n",
    "\n",
    "best_model_name = max(model_performance, key=model_performance.get)\n",
    "print(f\"\\nBest model based on F1 Score: {best_model_name}\")"
   ]
  },
  {
   "cell_type": "code",
   "execution_count": 47,
   "id": "51f3291f-8de3-48f4-afd7-b6156c526b55",
   "metadata": {},
   "outputs": [],
   "source": [
    "# Now let's save the best model for future use\n",
    "\n",
    "import joblib\n",
    "\n",
    "if best_model_name == 'Logistic Regression':\n",
    "    best_model = log_model\n",
    "elif best_model_name == 'Random Forest':\n",
    "    best_model = rf_model\n",
    "else:\n",
    "    best_model = gb_model"
   ]
  },
  {
   "cell_type": "code",
   "execution_count": 49,
   "id": "df9302fd-3b8d-4dc1-b4d1-fc07ff1ae836",
   "metadata": {},
   "outputs": [
    {
     "name": "stdout",
     "output_type": "stream",
     "text": [
      "\n",
      "Best model saved as 'best_model.pkl'\n"
     ]
    }
   ],
   "source": [
    "# Save the best model\n",
    "joblib.dump(best_model, 'best_model.pkl')\n",
    "\n",
    "print(\"\\nBest model saved as 'best_model.pkl'\")"
   ]
  },
  {
   "cell_type": "code",
   "execution_count": null,
   "id": "8c52cca1-8a3c-4417-bd6f-d98f0e19c123",
   "metadata": {},
   "outputs": [],
   "source": [
    "# At this point, would it best for me to perform some hyperparameter tuning like GridSearch or Random Search with cross validatoin? \n",
    "# Also, should I have started by combining my preprocessed data or does the approach in this notebook acceptable?"
   ]
  }
 ],
 "metadata": {
  "kernelspec": {
   "display_name": "Python 3 (ipykernel)",
   "language": "python",
   "name": "python3"
  },
  "language_info": {
   "codemirror_mode": {
    "name": "ipython",
    "version": 3
   },
   "file_extension": ".py",
   "mimetype": "text/x-python",
   "name": "python",
   "nbconvert_exporter": "python",
   "pygments_lexer": "ipython3",
   "version": "3.11.7"
  }
 },
 "nbformat": 4,
 "nbformat_minor": 5
}
