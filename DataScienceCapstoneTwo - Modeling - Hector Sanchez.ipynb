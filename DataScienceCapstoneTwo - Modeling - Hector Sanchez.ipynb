{
 "cells": [
  {
   "cell_type": "markdown",
   "id": "86ce6046-5c71-40cd-b439-b82dd81b7398",
   "metadata": {},
   "source": [
    "# CAPSTONE TWO MODELING - HECTOR SANCHEZ"
   ]
  },
  {
   "cell_type": "code",
   "execution_count": 33,
   "id": "5c9c0530-7f0a-40fd-b844-672c112c645f",
   "metadata": {},
   "outputs": [],
   "source": [
    "# Begin by importing necessary libraries for modeling\n",
    "\n",
    "import pandas as pd  # for data manipulation and analysis\n",
    "from sklearn.model_selection import train_test_split, cross_val_score # contains tools for model selection and evaluation\n",
    "from sklearn.linear_model import LogisticRegression # contains linear models like Logistic Regression\n",
    "from sklearn.ensemble import RandomForestClassifier, GradientBoostingClassifier # contains ensemble algorithms like Random Forest and Gradient Boosting\n",
    "from sklearn.metrics import accuracy_score, precision_score, recall_score, f1_score, confusion_matrix # provides metrics to evaluate model performance\n",
    "from sklearn.preprocessing import StandardScaler "
   ]
  },
  {
   "cell_type": "code",
   "execution_count": 36,
   "id": "c2094dcf-e164-4e79-a775-45d3502e9244",
   "metadata": {},
   "outputs": [],
   "source": [
    "# Next, we will load the preprocessed data that we worked on in the previous preprocessing step\n",
    "# We saved our preprocessed data as CSV files in the previous step\n",
    "\n",
    "# Load features (X) and target (y) for training and testing sets\n",
    "\n",
    "X_train = pd.read_csv('C:/Users/hecsa/Springboard/Springboard Github/Springboard/DataScienceCapstoneTwo/X_train_preprocessed.csv')\n",
    "X_test = pd.read_csv('C:/Users/hecsa/Springboard/Springboard Github/Springboard/DataScienceCapstoneTwo/X_test_preprocessed.csv')\n",
    "y_train = pd.read_csv('C:/Users/hecsa/Springboard/Springboard Github/Springboard/DataScienceCapstoneTwo/y_train_preprocessed.csv')\n",
    "y_test = pd.read_csv('C:/Users/hecsa/Springboard/Springboard Github/Springboard/DataScienceCapstoneTwo/y_test_preprocessed.csv')"
   ]
  },
  {
   "cell_type": "code",
   "execution_count": 38,
   "id": "b6c5d9db-1656-4df8-9792-f320fd7cf776",
   "metadata": {},
   "outputs": [],
   "source": [
    "# If y_train and y_test are DataFrames, we need to convert them to Series\n",
    "\n",
    "y_train = y_train.iloc[:, 0]  # Assuming the target variable is the first column\n",
    "y_test = y_test.iloc[:, 0]"
   ]
  },
  {
   "cell_type": "code",
   "execution_count": 40,
   "id": "64c209fa-fb75-42d7-bfb1-e97abd362ff9",
   "metadata": {},
   "outputs": [
    {
     "name": "stdout",
     "output_type": "stream",
     "text": [
      "X_train shape: (815, 68)\n",
      "X_test shape: (204, 68)\n",
      "y_train shape: (815,)\n",
      "y_test shape: (204,)\n"
     ]
    }
   ],
   "source": [
    "# Verify the data shape of the data by calling .shape on the training and test sets.\n",
    "# This ensures that the data was loaded correctly\n",
    "# We will also check the head of the datasets by calling .head()\n",
    "\n",
    "print(\"X_train shape:\", X_train.shape)\n",
    "print(\"X_test shape:\", X_test.shape)\n",
    "print(\"y_train shape:\", y_train.shape)\n",
    "print(\"y_test shape:\", y_test.shape)"
   ]
  },
  {
   "cell_type": "code",
   "execution_count": 42,
   "id": "4b854e0c-c5c9-4c7b-9e48-5b2ad0f847e8",
   "metadata": {},
   "outputs": [
    {
     "name": "stdout",
     "output_type": "stream",
     "text": [
      "\n",
      "First five rows of X_train:\n",
      "   Sexo_-2.1316282072803005e-16  Sexo_0.7828813612588126  \\\n",
      "0                          True                    False   \n",
      "1                          True                    False   \n",
      "2                          True                    False   \n",
      "3                          True                    False   \n",
      "4                          True                    False   \n",
      "\n",
      "   Faixa_etaria_-1.0206207261596576  Faixa_etaria_0.0  \\\n",
      "0                             False             False   \n",
      "1                             False             False   \n",
      "2                             False             False   \n",
      "3                             False             False   \n",
      "4                             False             False   \n",
      "\n",
      "   Faixa_etaria_3.1086244689504386e-17  Faixa_etaria_1.0206207261596576  \\\n",
      "0                                 True                            False   \n",
      "1                                 True                            False   \n",
      "2                                 True                            False   \n",
      "3                                 True                            False   \n",
      "4                                 True                            False   \n",
      "\n",
      "   Faixa_etaria_2_2.2204460492503132e-17  Faixa_etaria_2_0.6236095644623236  \\\n",
      "0                                   True                              False   \n",
      "1                                   True                              False   \n",
      "2                                   True                              False   \n",
      "3                                   True                              False   \n",
      "4                                   True                              False   \n",
      "\n",
      "   Estado_Civil_1.0658141036401502e-16  Estado_Civil_0.0977972049958213  ...  \\\n",
      "0                                 True                            False  ...   \n",
      "1                                 True                            False  ...   \n",
      "2                                 True                            False  ...   \n",
      "3                                 True                            False  ...   \n",
      "4                                 True                            False  ...   \n",
      "\n",
      "   <b>Hemorrhagic stroke (n = 16)</b>  <b>Independent variable</b>  <b>B</b>  \\\n",
      "0                       -1.563383e-16                          0.0       0.0   \n",
      "1                       -1.563383e-16                          0.0       0.0   \n",
      "2                       -1.563383e-16                          0.0       0.0   \n",
      "3                       -1.563383e-16                          0.0       0.0   \n",
      "4                       -1.563383e-16                          0.0       0.0   \n",
      "\n",
      "      <b>SE</b>   <b>Wald</b>  <b><em>df</em></b>  <b>P</b>  \\\n",
      "0 -2.580198e-18 -2.580198e-18                 0.0       0.0   \n",
      "1 -2.580198e-18 -2.580198e-18                 0.0       0.0   \n",
      "2 -2.580198e-18 -2.580198e-18                 0.0       0.0   \n",
      "3 -2.580198e-18 -2.580198e-18                 0.0       0.0   \n",
      "4 -2.580198e-18 -2.580198e-18                 0.0       0.0   \n",
      "\n",
      "   <b>Odds ratio</b>  <b>95% CI</b>  Unnamed: 0  \n",
      "0      -5.755827e-18   2.414038e-16    0.871901  \n",
      "1      -5.755827e-18   2.414038e-16   -0.354209  \n",
      "2      -5.755827e-18   2.414038e-16   -2.000068  \n",
      "3      -5.755827e-18   2.414038e-16    1.888137  \n",
      "4      -5.755827e-18   2.414038e-16   -1.668687  \n",
      "\n",
      "[5 rows x 68 columns]\n"
     ]
    }
   ],
   "source": [
    "# Use .head() to print the first five rows of X_train\n",
    "\n",
    "print(\"\\nFirst five rows of X_train:\")\n",
    "print(X_train.head())"
   ]
  },
  {
   "cell_type": "code",
   "execution_count": 44,
   "id": "776b3a1a-a59e-4e5d-9bae-6a401fdd0ecb",
   "metadata": {},
   "outputs": [
    {
     "name": "stdout",
     "output_type": "stream",
     "text": [
      "\n",
      "First five rows of y_train:\n",
      "0    False\n",
      "1    False\n",
      "2    False\n",
      "3    False\n",
      "4    False\n",
      "Name: Desfecho_final_3.0, dtype: bool\n"
     ]
    }
   ],
   "source": [
    "# Use .head() to print the first five rows of y_train\n",
    "\n",
    "print(\"\\nFirst five rows of y_train:\")\n",
    "print(y_train.head())"
   ]
  },
  {
   "cell_type": "code",
   "execution_count": null,
   "id": "f4b30cba-ff55-497c-a176-1138a262254f",
   "metadata": {},
   "outputs": [],
   "source": [
    "# We are going to initialize and Train three Models:\n",
    "# 1. Logistic Regression\n",
    "# 2. Random Forest Classifier\n",
    "# 3. Gradiant Boosting Classifier"
   ]
  },
  {
   "cell_type": "code",
   "execution_count": 46,
   "id": "aacd4013-ad10-4c3e-8d9c-8b82ac3dc713",
   "metadata": {},
   "outputs": [],
   "source": [
    "# MODEL 1: LOGISTIC REGRESSION \n",
    "# This model is suitable for binary classification problems\n",
    "# Setting max_iter=1000 ensures that the model converges\n",
    "\n",
    "# Start by initializing the Logistic Regression model\n",
    "# We set max_iter to a higher value to ensure convergence\n",
    "\n",
    "log_model = LogisticRegression(max_iter=1000, random_state=42)"
   ]
  },
  {
   "cell_type": "code",
   "execution_count": 48,
   "id": "594d2ea7-d496-4db6-8ab7-d12db3c789e7",
   "metadata": {},
   "outputs": [
    {
     "data": {
      "text/html": [
       "<style>#sk-container-id-1 {color: black;background-color: white;}#sk-container-id-1 pre{padding: 0;}#sk-container-id-1 div.sk-toggleable {background-color: white;}#sk-container-id-1 label.sk-toggleable__label {cursor: pointer;display: block;width: 100%;margin-bottom: 0;padding: 0.3em;box-sizing: border-box;text-align: center;}#sk-container-id-1 label.sk-toggleable__label-arrow:before {content: \"▸\";float: left;margin-right: 0.25em;color: #696969;}#sk-container-id-1 label.sk-toggleable__label-arrow:hover:before {color: black;}#sk-container-id-1 div.sk-estimator:hover label.sk-toggleable__label-arrow:before {color: black;}#sk-container-id-1 div.sk-toggleable__content {max-height: 0;max-width: 0;overflow: hidden;text-align: left;background-color: #f0f8ff;}#sk-container-id-1 div.sk-toggleable__content pre {margin: 0.2em;color: black;border-radius: 0.25em;background-color: #f0f8ff;}#sk-container-id-1 input.sk-toggleable__control:checked~div.sk-toggleable__content {max-height: 200px;max-width: 100%;overflow: auto;}#sk-container-id-1 input.sk-toggleable__control:checked~label.sk-toggleable__label-arrow:before {content: \"▾\";}#sk-container-id-1 div.sk-estimator input.sk-toggleable__control:checked~label.sk-toggleable__label {background-color: #d4ebff;}#sk-container-id-1 div.sk-label input.sk-toggleable__control:checked~label.sk-toggleable__label {background-color: #d4ebff;}#sk-container-id-1 input.sk-hidden--visually {border: 0;clip: rect(1px 1px 1px 1px);clip: rect(1px, 1px, 1px, 1px);height: 1px;margin: -1px;overflow: hidden;padding: 0;position: absolute;width: 1px;}#sk-container-id-1 div.sk-estimator {font-family: monospace;background-color: #f0f8ff;border: 1px dotted black;border-radius: 0.25em;box-sizing: border-box;margin-bottom: 0.5em;}#sk-container-id-1 div.sk-estimator:hover {background-color: #d4ebff;}#sk-container-id-1 div.sk-parallel-item::after {content: \"\";width: 100%;border-bottom: 1px solid gray;flex-grow: 1;}#sk-container-id-1 div.sk-label:hover label.sk-toggleable__label {background-color: #d4ebff;}#sk-container-id-1 div.sk-serial::before {content: \"\";position: absolute;border-left: 1px solid gray;box-sizing: border-box;top: 0;bottom: 0;left: 50%;z-index: 0;}#sk-container-id-1 div.sk-serial {display: flex;flex-direction: column;align-items: center;background-color: white;padding-right: 0.2em;padding-left: 0.2em;position: relative;}#sk-container-id-1 div.sk-item {position: relative;z-index: 1;}#sk-container-id-1 div.sk-parallel {display: flex;align-items: stretch;justify-content: center;background-color: white;position: relative;}#sk-container-id-1 div.sk-item::before, #sk-container-id-1 div.sk-parallel-item::before {content: \"\";position: absolute;border-left: 1px solid gray;box-sizing: border-box;top: 0;bottom: 0;left: 50%;z-index: -1;}#sk-container-id-1 div.sk-parallel-item {display: flex;flex-direction: column;z-index: 1;position: relative;background-color: white;}#sk-container-id-1 div.sk-parallel-item:first-child::after {align-self: flex-end;width: 50%;}#sk-container-id-1 div.sk-parallel-item:last-child::after {align-self: flex-start;width: 50%;}#sk-container-id-1 div.sk-parallel-item:only-child::after {width: 0;}#sk-container-id-1 div.sk-dashed-wrapped {border: 1px dashed gray;margin: 0 0.4em 0.5em 0.4em;box-sizing: border-box;padding-bottom: 0.4em;background-color: white;}#sk-container-id-1 div.sk-label label {font-family: monospace;font-weight: bold;display: inline-block;line-height: 1.2em;}#sk-container-id-1 div.sk-label-container {text-align: center;}#sk-container-id-1 div.sk-container {/* jupyter's `normalize.less` sets `[hidden] { display: none; }` but bootstrap.min.css set `[hidden] { display: none !important; }` so we also need the `!important` here to be able to override the default hidden behavior on the sphinx rendered scikit-learn.org. See: https://github.com/scikit-learn/scikit-learn/issues/21755 */display: inline-block !important;position: relative;}#sk-container-id-1 div.sk-text-repr-fallback {display: none;}</style><div id=\"sk-container-id-1\" class=\"sk-top-container\"><div class=\"sk-text-repr-fallback\"><pre>LogisticRegression(max_iter=1000, random_state=42)</pre><b>In a Jupyter environment, please rerun this cell to show the HTML representation or trust the notebook. <br />On GitHub, the HTML representation is unable to render, please try loading this page with nbviewer.org.</b></div><div class=\"sk-container\" hidden><div class=\"sk-item\"><div class=\"sk-estimator sk-toggleable\"><input class=\"sk-toggleable__control sk-hidden--visually\" id=\"sk-estimator-id-1\" type=\"checkbox\" checked><label for=\"sk-estimator-id-1\" class=\"sk-toggleable__label sk-toggleable__label-arrow\">LogisticRegression</label><div class=\"sk-toggleable__content\"><pre>LogisticRegression(max_iter=1000, random_state=42)</pre></div></div></div></div></div>"
      ],
      "text/plain": [
       "LogisticRegression(max_iter=1000, random_state=42)"
      ]
     },
     "execution_count": 48,
     "metadata": {},
     "output_type": "execute_result"
    }
   ],
   "source": [
    "# Fit the model on the training data\n",
    "\n",
    "log_model.fit(X_train, y_train)"
   ]
  },
  {
   "cell_type": "code",
   "execution_count": 50,
   "id": "fd8ca106-deb3-4825-b4df-2a77c50b6e99",
   "metadata": {},
   "outputs": [],
   "source": [
    "# MODEL 2: RANDOM FOREST CLASSIFIER\n",
    "# This is an ensemble method that uses multiple decision trees\n",
    "# Setting n_estimators=100 specifies the number of trees in the forest\n",
    "\n",
    "# Similar to the last model, start by initializing the Random Forest model\n",
    "\n",
    "rf_model = RandomForestClassifier(n_estimators=100, random_state=42)"
   ]
  },
  {
   "cell_type": "code",
   "execution_count": 52,
   "id": "ee840b55-dc2e-4c64-85bc-d815b021eff4",
   "metadata": {},
   "outputs": [
    {
     "data": {
      "text/html": [
       "<style>#sk-container-id-2 {color: black;background-color: white;}#sk-container-id-2 pre{padding: 0;}#sk-container-id-2 div.sk-toggleable {background-color: white;}#sk-container-id-2 label.sk-toggleable__label {cursor: pointer;display: block;width: 100%;margin-bottom: 0;padding: 0.3em;box-sizing: border-box;text-align: center;}#sk-container-id-2 label.sk-toggleable__label-arrow:before {content: \"▸\";float: left;margin-right: 0.25em;color: #696969;}#sk-container-id-2 label.sk-toggleable__label-arrow:hover:before {color: black;}#sk-container-id-2 div.sk-estimator:hover label.sk-toggleable__label-arrow:before {color: black;}#sk-container-id-2 div.sk-toggleable__content {max-height: 0;max-width: 0;overflow: hidden;text-align: left;background-color: #f0f8ff;}#sk-container-id-2 div.sk-toggleable__content pre {margin: 0.2em;color: black;border-radius: 0.25em;background-color: #f0f8ff;}#sk-container-id-2 input.sk-toggleable__control:checked~div.sk-toggleable__content {max-height: 200px;max-width: 100%;overflow: auto;}#sk-container-id-2 input.sk-toggleable__control:checked~label.sk-toggleable__label-arrow:before {content: \"▾\";}#sk-container-id-2 div.sk-estimator input.sk-toggleable__control:checked~label.sk-toggleable__label {background-color: #d4ebff;}#sk-container-id-2 div.sk-label input.sk-toggleable__control:checked~label.sk-toggleable__label {background-color: #d4ebff;}#sk-container-id-2 input.sk-hidden--visually {border: 0;clip: rect(1px 1px 1px 1px);clip: rect(1px, 1px, 1px, 1px);height: 1px;margin: -1px;overflow: hidden;padding: 0;position: absolute;width: 1px;}#sk-container-id-2 div.sk-estimator {font-family: monospace;background-color: #f0f8ff;border: 1px dotted black;border-radius: 0.25em;box-sizing: border-box;margin-bottom: 0.5em;}#sk-container-id-2 div.sk-estimator:hover {background-color: #d4ebff;}#sk-container-id-2 div.sk-parallel-item::after {content: \"\";width: 100%;border-bottom: 1px solid gray;flex-grow: 1;}#sk-container-id-2 div.sk-label:hover label.sk-toggleable__label {background-color: #d4ebff;}#sk-container-id-2 div.sk-serial::before {content: \"\";position: absolute;border-left: 1px solid gray;box-sizing: border-box;top: 0;bottom: 0;left: 50%;z-index: 0;}#sk-container-id-2 div.sk-serial {display: flex;flex-direction: column;align-items: center;background-color: white;padding-right: 0.2em;padding-left: 0.2em;position: relative;}#sk-container-id-2 div.sk-item {position: relative;z-index: 1;}#sk-container-id-2 div.sk-parallel {display: flex;align-items: stretch;justify-content: center;background-color: white;position: relative;}#sk-container-id-2 div.sk-item::before, #sk-container-id-2 div.sk-parallel-item::before {content: \"\";position: absolute;border-left: 1px solid gray;box-sizing: border-box;top: 0;bottom: 0;left: 50%;z-index: -1;}#sk-container-id-2 div.sk-parallel-item {display: flex;flex-direction: column;z-index: 1;position: relative;background-color: white;}#sk-container-id-2 div.sk-parallel-item:first-child::after {align-self: flex-end;width: 50%;}#sk-container-id-2 div.sk-parallel-item:last-child::after {align-self: flex-start;width: 50%;}#sk-container-id-2 div.sk-parallel-item:only-child::after {width: 0;}#sk-container-id-2 div.sk-dashed-wrapped {border: 1px dashed gray;margin: 0 0.4em 0.5em 0.4em;box-sizing: border-box;padding-bottom: 0.4em;background-color: white;}#sk-container-id-2 div.sk-label label {font-family: monospace;font-weight: bold;display: inline-block;line-height: 1.2em;}#sk-container-id-2 div.sk-label-container {text-align: center;}#sk-container-id-2 div.sk-container {/* jupyter's `normalize.less` sets `[hidden] { display: none; }` but bootstrap.min.css set `[hidden] { display: none !important; }` so we also need the `!important` here to be able to override the default hidden behavior on the sphinx rendered scikit-learn.org. See: https://github.com/scikit-learn/scikit-learn/issues/21755 */display: inline-block !important;position: relative;}#sk-container-id-2 div.sk-text-repr-fallback {display: none;}</style><div id=\"sk-container-id-2\" class=\"sk-top-container\"><div class=\"sk-text-repr-fallback\"><pre>RandomForestClassifier(random_state=42)</pre><b>In a Jupyter environment, please rerun this cell to show the HTML representation or trust the notebook. <br />On GitHub, the HTML representation is unable to render, please try loading this page with nbviewer.org.</b></div><div class=\"sk-container\" hidden><div class=\"sk-item\"><div class=\"sk-estimator sk-toggleable\"><input class=\"sk-toggleable__control sk-hidden--visually\" id=\"sk-estimator-id-2\" type=\"checkbox\" checked><label for=\"sk-estimator-id-2\" class=\"sk-toggleable__label sk-toggleable__label-arrow\">RandomForestClassifier</label><div class=\"sk-toggleable__content\"><pre>RandomForestClassifier(random_state=42)</pre></div></div></div></div></div>"
      ],
      "text/plain": [
       "RandomForestClassifier(random_state=42)"
      ]
     },
     "execution_count": 52,
     "metadata": {},
     "output_type": "execute_result"
    }
   ],
   "source": [
    "# Next, fit the model on the training data\n",
    "\n",
    "rf_model.fit(X_train, y_train)"
   ]
  },
  {
   "cell_type": "code",
   "execution_count": 54,
   "id": "1732b340-ab2a-4dfd-9200-c96d2dc84416",
   "metadata": {},
   "outputs": [],
   "source": [
    "# MODEL 3: GRADIENT BOOSTING CLASSIFIER\n",
    "# This is an ensemble method that builds trees sequentially to correct errosrs made by previous trees\n",
    "# n_estimators=100 specifies the number of boosting stages\n",
    "\n",
    "# Initialize the Gradient Boosting model as in the last 2 models\n",
    "\n",
    "gb_model = GradientBoostingClassifier(n_estimators=100, random_state=42)"
   ]
  },
  {
   "cell_type": "code",
   "execution_count": 56,
   "id": "62a94671-b829-4304-9a1c-7fbec42e185c",
   "metadata": {},
   "outputs": [
    {
     "data": {
      "text/html": [
       "<style>#sk-container-id-3 {color: black;background-color: white;}#sk-container-id-3 pre{padding: 0;}#sk-container-id-3 div.sk-toggleable {background-color: white;}#sk-container-id-3 label.sk-toggleable__label {cursor: pointer;display: block;width: 100%;margin-bottom: 0;padding: 0.3em;box-sizing: border-box;text-align: center;}#sk-container-id-3 label.sk-toggleable__label-arrow:before {content: \"▸\";float: left;margin-right: 0.25em;color: #696969;}#sk-container-id-3 label.sk-toggleable__label-arrow:hover:before {color: black;}#sk-container-id-3 div.sk-estimator:hover label.sk-toggleable__label-arrow:before {color: black;}#sk-container-id-3 div.sk-toggleable__content {max-height: 0;max-width: 0;overflow: hidden;text-align: left;background-color: #f0f8ff;}#sk-container-id-3 div.sk-toggleable__content pre {margin: 0.2em;color: black;border-radius: 0.25em;background-color: #f0f8ff;}#sk-container-id-3 input.sk-toggleable__control:checked~div.sk-toggleable__content {max-height: 200px;max-width: 100%;overflow: auto;}#sk-container-id-3 input.sk-toggleable__control:checked~label.sk-toggleable__label-arrow:before {content: \"▾\";}#sk-container-id-3 div.sk-estimator input.sk-toggleable__control:checked~label.sk-toggleable__label {background-color: #d4ebff;}#sk-container-id-3 div.sk-label input.sk-toggleable__control:checked~label.sk-toggleable__label {background-color: #d4ebff;}#sk-container-id-3 input.sk-hidden--visually {border: 0;clip: rect(1px 1px 1px 1px);clip: rect(1px, 1px, 1px, 1px);height: 1px;margin: -1px;overflow: hidden;padding: 0;position: absolute;width: 1px;}#sk-container-id-3 div.sk-estimator {font-family: monospace;background-color: #f0f8ff;border: 1px dotted black;border-radius: 0.25em;box-sizing: border-box;margin-bottom: 0.5em;}#sk-container-id-3 div.sk-estimator:hover {background-color: #d4ebff;}#sk-container-id-3 div.sk-parallel-item::after {content: \"\";width: 100%;border-bottom: 1px solid gray;flex-grow: 1;}#sk-container-id-3 div.sk-label:hover label.sk-toggleable__label {background-color: #d4ebff;}#sk-container-id-3 div.sk-serial::before {content: \"\";position: absolute;border-left: 1px solid gray;box-sizing: border-box;top: 0;bottom: 0;left: 50%;z-index: 0;}#sk-container-id-3 div.sk-serial {display: flex;flex-direction: column;align-items: center;background-color: white;padding-right: 0.2em;padding-left: 0.2em;position: relative;}#sk-container-id-3 div.sk-item {position: relative;z-index: 1;}#sk-container-id-3 div.sk-parallel {display: flex;align-items: stretch;justify-content: center;background-color: white;position: relative;}#sk-container-id-3 div.sk-item::before, #sk-container-id-3 div.sk-parallel-item::before {content: \"\";position: absolute;border-left: 1px solid gray;box-sizing: border-box;top: 0;bottom: 0;left: 50%;z-index: -1;}#sk-container-id-3 div.sk-parallel-item {display: flex;flex-direction: column;z-index: 1;position: relative;background-color: white;}#sk-container-id-3 div.sk-parallel-item:first-child::after {align-self: flex-end;width: 50%;}#sk-container-id-3 div.sk-parallel-item:last-child::after {align-self: flex-start;width: 50%;}#sk-container-id-3 div.sk-parallel-item:only-child::after {width: 0;}#sk-container-id-3 div.sk-dashed-wrapped {border: 1px dashed gray;margin: 0 0.4em 0.5em 0.4em;box-sizing: border-box;padding-bottom: 0.4em;background-color: white;}#sk-container-id-3 div.sk-label label {font-family: monospace;font-weight: bold;display: inline-block;line-height: 1.2em;}#sk-container-id-3 div.sk-label-container {text-align: center;}#sk-container-id-3 div.sk-container {/* jupyter's `normalize.less` sets `[hidden] { display: none; }` but bootstrap.min.css set `[hidden] { display: none !important; }` so we also need the `!important` here to be able to override the default hidden behavior on the sphinx rendered scikit-learn.org. See: https://github.com/scikit-learn/scikit-learn/issues/21755 */display: inline-block !important;position: relative;}#sk-container-id-3 div.sk-text-repr-fallback {display: none;}</style><div id=\"sk-container-id-3\" class=\"sk-top-container\"><div class=\"sk-text-repr-fallback\"><pre>GradientBoostingClassifier(random_state=42)</pre><b>In a Jupyter environment, please rerun this cell to show the HTML representation or trust the notebook. <br />On GitHub, the HTML representation is unable to render, please try loading this page with nbviewer.org.</b></div><div class=\"sk-container\" hidden><div class=\"sk-item\"><div class=\"sk-estimator sk-toggleable\"><input class=\"sk-toggleable__control sk-hidden--visually\" id=\"sk-estimator-id-3\" type=\"checkbox\" checked><label for=\"sk-estimator-id-3\" class=\"sk-toggleable__label sk-toggleable__label-arrow\">GradientBoostingClassifier</label><div class=\"sk-toggleable__content\"><pre>GradientBoostingClassifier(random_state=42)</pre></div></div></div></div></div>"
      ],
      "text/plain": [
       "GradientBoostingClassifier(random_state=42)"
      ]
     },
     "execution_count": 56,
     "metadata": {},
     "output_type": "execute_result"
    }
   ],
   "source": [
    "# Now fit the model on the training data\n",
    "\n",
    "gb_model.fit(X_train, y_train)"
   ]
  },
  {
   "cell_type": "code",
   "execution_count": null,
   "id": "6df9ce45-0fe5-46ee-ac94-9878f87fe997",
   "metadata": {},
   "outputs": [],
   "source": [
    "# Now that we've worked through our 3 models, we will Evaluate the models on the test set"
   ]
  },
  {
   "cell_type": "code",
   "execution_count": 58,
   "id": "ccd99d3d-32b0-4cd6-90b5-cfd13570b609",
   "metadata": {},
   "outputs": [],
   "source": [
    "# We will create a function to evaluate the performance of each model\n",
    "\n",
    "def evaluate_model(model, X_test, y_test):\n",
    "    \"\"\"\n",
    "    Evaluates the model's performance on the test set and returns evaluation metrics.\n",
    "    \"\"\"\n",
    "    predictions = model.predict(X_test)\n",
    "    accuracy = accuracy_score(y_test, predictions) # the proportion of correct predictions over total predictions\n",
    "    precision = precision_score(y_test, predictions, zero_division=0) # the ability of the classifier not to label a negative sample as positive\n",
    "    recall = recall_score(y_test, predictions, zero_division=0) # the ability of the classifier to find all the positive samples\n",
    "    f1 = f1_score(y_test, predictions, zero_division=0) # the mean of precision and recall\n",
    "    return accuracy, precision, recall, f1"
   ]
  },
  {
   "cell_type": "code",
   "execution_count": null,
   "id": "2a186601-e9c8-49f5-9d37-69409f6a5053",
   "metadata": {},
   "outputs": [],
   "source": [
    "# We will now use this function to individually evaluate each model"
   ]
  },
  {
   "cell_type": "code",
   "execution_count": 60,
   "id": "dcc5ba23-e242-4a27-a50a-14aed577c99f",
   "metadata": {},
   "outputs": [],
   "source": [
    "# Evaluate Logistic Regression model\n",
    "\n",
    "log_accuracy, log_precision, log_recall, log_f1 = evaluate_model(log_model, X_test, y_test)"
   ]
  },
  {
   "cell_type": "code",
   "execution_count": 62,
   "id": "6625ee13-efec-424e-84df-37f3b45d93b5",
   "metadata": {},
   "outputs": [],
   "source": [
    "# Evaluate Random Forest model\n",
    "\n",
    "rf_accuracy, rf_precision, rf_recall, rf_f1 = evaluate_model(rf_model, X_test, y_test)"
   ]
  },
  {
   "cell_type": "code",
   "execution_count": 64,
   "id": "92416253-6774-4117-8b86-d0a0d6238f3a",
   "metadata": {},
   "outputs": [],
   "source": [
    "# Evaluate Gradient Boosting model\n",
    "\n",
    "gb_accuracy, gb_precision, gb_recall, gb_f1 = evaluate_model(gb_model, X_test, y_test)"
   ]
  },
  {
   "cell_type": "code",
   "execution_count": 66,
   "id": "4d525948-88e4-43fb-8a36-6f4638baa21e",
   "metadata": {},
   "outputs": [
    {
     "name": "stdout",
     "output_type": "stream",
     "text": [
      "\n",
      "Model Evaluation Metrics:\n",
      "--------------------------------------------------\n",
      "Logistic Regression:\n",
      "Accuracy: 1.0000\n",
      "Precision: 1.0000\n",
      "Recall: 1.0000\n",
      "F1 Score: 1.0000\n",
      "--------------------------------------------------\n",
      "Random Forest:\n",
      "Accuracy: 0.9951\n",
      "Precision: 0.0000\n",
      "Recall: 0.0000\n",
      "F1 Score: 0.0000\n",
      "--------------------------------------------------\n",
      "Gradient Boosting:\n",
      "Accuracy: 1.0000\n",
      "Precision: 1.0000\n",
      "Recall: 1.0000\n",
      "F1 Score: 1.0000\n",
      "--------------------------------------------------\n"
     ]
    }
   ],
   "source": [
    "# Next, we need to display the results\n",
    "\n",
    "print(\"\\nModel Evaluation Metrics:\")\n",
    "print(\"--------------------------------------------------\")\n",
    "print(\"Logistic Regression:\")\n",
    "print(f\"Accuracy: {log_accuracy:.4f}\")\n",
    "print(f\"Precision: {log_precision:.4f}\")\n",
    "print(f\"Recall: {log_recall:.4f}\")\n",
    "print(f\"F1 Score: {log_f1:.4f}\")\n",
    "print(\"--------------------------------------------------\")\n",
    "print(\"Random Forest:\")\n",
    "print(f\"Accuracy: {rf_accuracy:.4f}\")\n",
    "print(f\"Precision: {rf_precision:.4f}\")\n",
    "print(f\"Recall: {rf_recall:.4f}\")\n",
    "print(f\"F1 Score: {rf_f1:.4f}\")\n",
    "print(\"--------------------------------------------------\")\n",
    "print(\"Gradient Boosting:\")\n",
    "print(f\"Accuracy: {gb_accuracy:.4f}\")\n",
    "print(f\"Precision: {gb_precision:.4f}\")\n",
    "print(f\"Recall: {gb_recall:.4f}\")\n",
    "print(f\"F1 Score: {gb_f1:.4f}\")\n",
    "print(\"--------------------------------------------------\")"
   ]
  },
  {
   "cell_type": "markdown",
   "id": "64cf0b41-2027-4165-9939-27104b95cf92",
   "metadata": {},
   "source": [
    "The model evaluation metrics for logistic regression and gradiant boosting look suspiciously high *all metrics are at 1.0000). This implies the possiblity of data leakage, or overfitting. Random Forest has high accuracy but it also shows poor performance on precision, recall, and F1 score. This could mean that it's not handling the positive class well."
   ]
  },
  {
   "cell_type": "code",
   "execution_count": 69,
   "id": "c025cad1-c76e-4095-9a65-203c94ab94e2",
   "metadata": {},
   "outputs": [
    {
     "name": "stderr",
     "output_type": "stream",
     "text": [
      "C:\\Users\\hecsa\\anaconda3\\Lib\\site-packages\\sklearn\\model_selection\\_split.py:700: UserWarning: The least populated class in y has only 4 members, which is less than n_splits=5.\n",
      "  warnings.warn(\n"
     ]
    },
    {
     "name": "stdout",
     "output_type": "stream",
     "text": [
      "Logistic Regression Cross-Validation Accuracy: 0.9951\n"
     ]
    },
    {
     "name": "stderr",
     "output_type": "stream",
     "text": [
      "C:\\Users\\hecsa\\anaconda3\\Lib\\site-packages\\sklearn\\model_selection\\_split.py:700: UserWarning: The least populated class in y has only 4 members, which is less than n_splits=5.\n",
      "  warnings.warn(\n"
     ]
    },
    {
     "name": "stdout",
     "output_type": "stream",
     "text": [
      "Gradient Boosting Cross-Validation Accuracy: 0.9951\n"
     ]
    }
   ],
   "source": [
    "# Check for Overfitting with Cross Validation\n",
    "\n",
    "from sklearn.model_selection import cross_val_score\n",
    "\n",
    "# Cross validation for Logistic Regression\n",
    "\n",
    "log_reg_cv = cross_val_score(log_model, X_train, y_train, cv=5, scoring='accuracy')\n",
    "print(f\"Logistic Regression Cross-Validation Accuracy: {log_reg_cv.mean():.4f}\")\n",
    "\n",
    "# Cross validation for Gradient Boosting\n",
    "\n",
    "gb_cv = cross_val_score(gb_model, X_train, y_train, cv=5, scoring='accuracy')\n",
    "print(f\"Gradient Boosting Cross-Validation Accuracy: {gb_cv.mean():.4f}\")"
   ]
  },
  {
   "cell_type": "markdown",
   "id": "e75ba168-576c-4262-b0ee-1430a019587c",
   "metadata": {},
   "source": [
    "The accuracy af logistic regression and gradient boosting are both slightly lower after cross validation, so it's even more likely that I overfit on the original training data. "
   ]
  },
  {
   "cell_type": "code",
   "execution_count": 74,
   "id": "5444a3d8-4bab-4630-9840-8f1ddd2a37b6",
   "metadata": {},
   "outputs": [],
   "source": [
    "# Address Class Imbalance\n",
    "\n",
    "def evaluate_model(model, X_test, y_test):\n",
    "    \"\"\"\n",
    "    Evaluates the model's performance on the test set and returns evaluation metrics.\n",
    "    \"\"\"\n",
    "    predictions = model.predict(X_test)\n",
    "    accuracy = accuracy_score(y_test, predictions)  # proportion of correct predictions over total predictions\n",
    "    precision = precision_score(y_test, predictions, zero_division=0)  # avoid division by zero\n",
    "    recall = recall_score(y_test, predictions, zero_division=0)\n",
    "    f1 = f1_score(y_test, predictions, zero_division=0)\n",
    "    return accuracy, precision, recall, f1"
   ]
  },
  {
   "cell_type": "code",
   "execution_count": 76,
   "id": "2f83b69a-3cc5-42bb-bc19-741e49dd0abf",
   "metadata": {},
   "outputs": [
    {
     "data": {
      "text/html": [
       "<style>#sk-container-id-4 {color: black;background-color: white;}#sk-container-id-4 pre{padding: 0;}#sk-container-id-4 div.sk-toggleable {background-color: white;}#sk-container-id-4 label.sk-toggleable__label {cursor: pointer;display: block;width: 100%;margin-bottom: 0;padding: 0.3em;box-sizing: border-box;text-align: center;}#sk-container-id-4 label.sk-toggleable__label-arrow:before {content: \"▸\";float: left;margin-right: 0.25em;color: #696969;}#sk-container-id-4 label.sk-toggleable__label-arrow:hover:before {color: black;}#sk-container-id-4 div.sk-estimator:hover label.sk-toggleable__label-arrow:before {color: black;}#sk-container-id-4 div.sk-toggleable__content {max-height: 0;max-width: 0;overflow: hidden;text-align: left;background-color: #f0f8ff;}#sk-container-id-4 div.sk-toggleable__content pre {margin: 0.2em;color: black;border-radius: 0.25em;background-color: #f0f8ff;}#sk-container-id-4 input.sk-toggleable__control:checked~div.sk-toggleable__content {max-height: 200px;max-width: 100%;overflow: auto;}#sk-container-id-4 input.sk-toggleable__control:checked~label.sk-toggleable__label-arrow:before {content: \"▾\";}#sk-container-id-4 div.sk-estimator input.sk-toggleable__control:checked~label.sk-toggleable__label {background-color: #d4ebff;}#sk-container-id-4 div.sk-label input.sk-toggleable__control:checked~label.sk-toggleable__label {background-color: #d4ebff;}#sk-container-id-4 input.sk-hidden--visually {border: 0;clip: rect(1px 1px 1px 1px);clip: rect(1px, 1px, 1px, 1px);height: 1px;margin: -1px;overflow: hidden;padding: 0;position: absolute;width: 1px;}#sk-container-id-4 div.sk-estimator {font-family: monospace;background-color: #f0f8ff;border: 1px dotted black;border-radius: 0.25em;box-sizing: border-box;margin-bottom: 0.5em;}#sk-container-id-4 div.sk-estimator:hover {background-color: #d4ebff;}#sk-container-id-4 div.sk-parallel-item::after {content: \"\";width: 100%;border-bottom: 1px solid gray;flex-grow: 1;}#sk-container-id-4 div.sk-label:hover label.sk-toggleable__label {background-color: #d4ebff;}#sk-container-id-4 div.sk-serial::before {content: \"\";position: absolute;border-left: 1px solid gray;box-sizing: border-box;top: 0;bottom: 0;left: 50%;z-index: 0;}#sk-container-id-4 div.sk-serial {display: flex;flex-direction: column;align-items: center;background-color: white;padding-right: 0.2em;padding-left: 0.2em;position: relative;}#sk-container-id-4 div.sk-item {position: relative;z-index: 1;}#sk-container-id-4 div.sk-parallel {display: flex;align-items: stretch;justify-content: center;background-color: white;position: relative;}#sk-container-id-4 div.sk-item::before, #sk-container-id-4 div.sk-parallel-item::before {content: \"\";position: absolute;border-left: 1px solid gray;box-sizing: border-box;top: 0;bottom: 0;left: 50%;z-index: -1;}#sk-container-id-4 div.sk-parallel-item {display: flex;flex-direction: column;z-index: 1;position: relative;background-color: white;}#sk-container-id-4 div.sk-parallel-item:first-child::after {align-self: flex-end;width: 50%;}#sk-container-id-4 div.sk-parallel-item:last-child::after {align-self: flex-start;width: 50%;}#sk-container-id-4 div.sk-parallel-item:only-child::after {width: 0;}#sk-container-id-4 div.sk-dashed-wrapped {border: 1px dashed gray;margin: 0 0.4em 0.5em 0.4em;box-sizing: border-box;padding-bottom: 0.4em;background-color: white;}#sk-container-id-4 div.sk-label label {font-family: monospace;font-weight: bold;display: inline-block;line-height: 1.2em;}#sk-container-id-4 div.sk-label-container {text-align: center;}#sk-container-id-4 div.sk-container {/* jupyter's `normalize.less` sets `[hidden] { display: none; }` but bootstrap.min.css set `[hidden] { display: none !important; }` so we also need the `!important` here to be able to override the default hidden behavior on the sphinx rendered scikit-learn.org. See: https://github.com/scikit-learn/scikit-learn/issues/21755 */display: inline-block !important;position: relative;}#sk-container-id-4 div.sk-text-repr-fallback {display: none;}</style><div id=\"sk-container-id-4\" class=\"sk-top-container\"><div class=\"sk-text-repr-fallback\"><pre>LogisticRegression(class_weight=&#x27;balanced&#x27;)</pre><b>In a Jupyter environment, please rerun this cell to show the HTML representation or trust the notebook. <br />On GitHub, the HTML representation is unable to render, please try loading this page with nbviewer.org.</b></div><div class=\"sk-container\" hidden><div class=\"sk-item\"><div class=\"sk-estimator sk-toggleable\"><input class=\"sk-toggleable__control sk-hidden--visually\" id=\"sk-estimator-id-4\" type=\"checkbox\" checked><label for=\"sk-estimator-id-4\" class=\"sk-toggleable__label sk-toggleable__label-arrow\">LogisticRegression</label><div class=\"sk-toggleable__content\"><pre>LogisticRegression(class_weight=&#x27;balanced&#x27;)</pre></div></div></div></div></div>"
      ],
      "text/plain": [
       "LogisticRegression(class_weight='balanced')"
      ]
     },
     "execution_count": 76,
     "metadata": {},
     "output_type": "execute_result"
    }
   ],
   "source": [
    "# Logistic Regression with Class Weighting\n",
    "log_reg_model = LogisticRegression(class_weight='balanced')\n",
    "log_reg_model.fit(X_train, y_train)"
   ]
  },
  {
   "cell_type": "code",
   "execution_count": 78,
   "id": "02307d2f-b63d-464a-91f8-d146e0926838",
   "metadata": {},
   "outputs": [
    {
     "name": "stdout",
     "output_type": "stream",
     "text": [
      "Logistic Regression with Class Weighting:\n",
      "Accuracy: 0.9902\n",
      "Precision: 0.3333\n",
      "Recall: 1.0000\n",
      "F1 Score: 0.5000\n",
      "--------------------------------------------------\n"
     ]
    }
   ],
   "source": [
    "# Evaluate the Logistic Regression model\n",
    "log_accuracy, log_precision, log_recall, log_f1 = evaluate_model(log_reg_model, X_test, y_test)\n",
    "\n",
    "# Print the evaluation metrics for Logistic Regression\n",
    "print(\"Logistic Regression with Class Weighting:\")\n",
    "print(f\"Accuracy: {log_accuracy:.4f}\")\n",
    "print(f\"Precision: {log_precision:.4f}\")\n",
    "print(f\"Recall: {log_recall:.4f}\")\n",
    "print(f\"F1 Score: {log_f1:.4f}\")\n",
    "print(\"-\" * 50)"
   ]
  },
  {
   "cell_type": "code",
   "execution_count": 80,
   "id": "763d685e-06e0-477c-9be5-7e200fb12fc5",
   "metadata": {},
   "outputs": [
    {
     "data": {
      "text/html": [
       "<style>#sk-container-id-5 {color: black;background-color: white;}#sk-container-id-5 pre{padding: 0;}#sk-container-id-5 div.sk-toggleable {background-color: white;}#sk-container-id-5 label.sk-toggleable__label {cursor: pointer;display: block;width: 100%;margin-bottom: 0;padding: 0.3em;box-sizing: border-box;text-align: center;}#sk-container-id-5 label.sk-toggleable__label-arrow:before {content: \"▸\";float: left;margin-right: 0.25em;color: #696969;}#sk-container-id-5 label.sk-toggleable__label-arrow:hover:before {color: black;}#sk-container-id-5 div.sk-estimator:hover label.sk-toggleable__label-arrow:before {color: black;}#sk-container-id-5 div.sk-toggleable__content {max-height: 0;max-width: 0;overflow: hidden;text-align: left;background-color: #f0f8ff;}#sk-container-id-5 div.sk-toggleable__content pre {margin: 0.2em;color: black;border-radius: 0.25em;background-color: #f0f8ff;}#sk-container-id-5 input.sk-toggleable__control:checked~div.sk-toggleable__content {max-height: 200px;max-width: 100%;overflow: auto;}#sk-container-id-5 input.sk-toggleable__control:checked~label.sk-toggleable__label-arrow:before {content: \"▾\";}#sk-container-id-5 div.sk-estimator input.sk-toggleable__control:checked~label.sk-toggleable__label {background-color: #d4ebff;}#sk-container-id-5 div.sk-label input.sk-toggleable__control:checked~label.sk-toggleable__label {background-color: #d4ebff;}#sk-container-id-5 input.sk-hidden--visually {border: 0;clip: rect(1px 1px 1px 1px);clip: rect(1px, 1px, 1px, 1px);height: 1px;margin: -1px;overflow: hidden;padding: 0;position: absolute;width: 1px;}#sk-container-id-5 div.sk-estimator {font-family: monospace;background-color: #f0f8ff;border: 1px dotted black;border-radius: 0.25em;box-sizing: border-box;margin-bottom: 0.5em;}#sk-container-id-5 div.sk-estimator:hover {background-color: #d4ebff;}#sk-container-id-5 div.sk-parallel-item::after {content: \"\";width: 100%;border-bottom: 1px solid gray;flex-grow: 1;}#sk-container-id-5 div.sk-label:hover label.sk-toggleable__label {background-color: #d4ebff;}#sk-container-id-5 div.sk-serial::before {content: \"\";position: absolute;border-left: 1px solid gray;box-sizing: border-box;top: 0;bottom: 0;left: 50%;z-index: 0;}#sk-container-id-5 div.sk-serial {display: flex;flex-direction: column;align-items: center;background-color: white;padding-right: 0.2em;padding-left: 0.2em;position: relative;}#sk-container-id-5 div.sk-item {position: relative;z-index: 1;}#sk-container-id-5 div.sk-parallel {display: flex;align-items: stretch;justify-content: center;background-color: white;position: relative;}#sk-container-id-5 div.sk-item::before, #sk-container-id-5 div.sk-parallel-item::before {content: \"\";position: absolute;border-left: 1px solid gray;box-sizing: border-box;top: 0;bottom: 0;left: 50%;z-index: -1;}#sk-container-id-5 div.sk-parallel-item {display: flex;flex-direction: column;z-index: 1;position: relative;background-color: white;}#sk-container-id-5 div.sk-parallel-item:first-child::after {align-self: flex-end;width: 50%;}#sk-container-id-5 div.sk-parallel-item:last-child::after {align-self: flex-start;width: 50%;}#sk-container-id-5 div.sk-parallel-item:only-child::after {width: 0;}#sk-container-id-5 div.sk-dashed-wrapped {border: 1px dashed gray;margin: 0 0.4em 0.5em 0.4em;box-sizing: border-box;padding-bottom: 0.4em;background-color: white;}#sk-container-id-5 div.sk-label label {font-family: monospace;font-weight: bold;display: inline-block;line-height: 1.2em;}#sk-container-id-5 div.sk-label-container {text-align: center;}#sk-container-id-5 div.sk-container {/* jupyter's `normalize.less` sets `[hidden] { display: none; }` but bootstrap.min.css set `[hidden] { display: none !important; }` so we also need the `!important` here to be able to override the default hidden behavior on the sphinx rendered scikit-learn.org. See: https://github.com/scikit-learn/scikit-learn/issues/21755 */display: inline-block !important;position: relative;}#sk-container-id-5 div.sk-text-repr-fallback {display: none;}</style><div id=\"sk-container-id-5\" class=\"sk-top-container\"><div class=\"sk-text-repr-fallback\"><pre>RandomForestClassifier(class_weight=&#x27;balanced&#x27;, random_state=42)</pre><b>In a Jupyter environment, please rerun this cell to show the HTML representation or trust the notebook. <br />On GitHub, the HTML representation is unable to render, please try loading this page with nbviewer.org.</b></div><div class=\"sk-container\" hidden><div class=\"sk-item\"><div class=\"sk-estimator sk-toggleable\"><input class=\"sk-toggleable__control sk-hidden--visually\" id=\"sk-estimator-id-5\" type=\"checkbox\" checked><label for=\"sk-estimator-id-5\" class=\"sk-toggleable__label sk-toggleable__label-arrow\">RandomForestClassifier</label><div class=\"sk-toggleable__content\"><pre>RandomForestClassifier(class_weight=&#x27;balanced&#x27;, random_state=42)</pre></div></div></div></div></div>"
      ],
      "text/plain": [
       "RandomForestClassifier(class_weight='balanced', random_state=42)"
      ]
     },
     "execution_count": 80,
     "metadata": {},
     "output_type": "execute_result"
    }
   ],
   "source": [
    "# Random Forest with Class Weighting\n",
    "rf_model = RandomForestClassifier(class_weight='balanced', random_state=42)\n",
    "rf_model.fit(X_train, y_train)"
   ]
  },
  {
   "cell_type": "code",
   "execution_count": 82,
   "id": "f471eb33-1e90-4c8d-8525-0336af15761e",
   "metadata": {},
   "outputs": [
    {
     "name": "stdout",
     "output_type": "stream",
     "text": [
      "Random Forest with Class Weighting:\n",
      "Accuracy: 0.9951\n",
      "Precision: 0.0000\n",
      "Recall: 0.0000\n",
      "F1 Score: 0.0000\n",
      "--------------------------------------------------\n"
     ]
    }
   ],
   "source": [
    "# Evaluate the Random Forest model\n",
    "rf_accuracy, rf_precision, rf_recall, rf_f1 = evaluate_model(rf_model, X_test, y_test)\n",
    "\n",
    "# Print the evaluation metrics for Random Forest\n",
    "print(\"Random Forest with Class Weighting:\")\n",
    "print(f\"Accuracy: {rf_accuracy:.4f}\")\n",
    "print(f\"Precision: {rf_precision:.4f}\")\n",
    "print(f\"Recall: {rf_recall:.4f}\")\n",
    "print(f\"F1 Score: {rf_f1:.4f}\")\n",
    "print(\"-\" * 50)"
   ]
  },
  {
   "cell_type": "code",
   "execution_count": 86,
   "id": "f8e4486c-32ab-4d28-87c9-1651394a20eb",
   "metadata": {},
   "outputs": [
    {
     "data": {
      "text/html": [
       "<style>#sk-container-id-6 {color: black;background-color: white;}#sk-container-id-6 pre{padding: 0;}#sk-container-id-6 div.sk-toggleable {background-color: white;}#sk-container-id-6 label.sk-toggleable__label {cursor: pointer;display: block;width: 100%;margin-bottom: 0;padding: 0.3em;box-sizing: border-box;text-align: center;}#sk-container-id-6 label.sk-toggleable__label-arrow:before {content: \"▸\";float: left;margin-right: 0.25em;color: #696969;}#sk-container-id-6 label.sk-toggleable__label-arrow:hover:before {color: black;}#sk-container-id-6 div.sk-estimator:hover label.sk-toggleable__label-arrow:before {color: black;}#sk-container-id-6 div.sk-toggleable__content {max-height: 0;max-width: 0;overflow: hidden;text-align: left;background-color: #f0f8ff;}#sk-container-id-6 div.sk-toggleable__content pre {margin: 0.2em;color: black;border-radius: 0.25em;background-color: #f0f8ff;}#sk-container-id-6 input.sk-toggleable__control:checked~div.sk-toggleable__content {max-height: 200px;max-width: 100%;overflow: auto;}#sk-container-id-6 input.sk-toggleable__control:checked~label.sk-toggleable__label-arrow:before {content: \"▾\";}#sk-container-id-6 div.sk-estimator input.sk-toggleable__control:checked~label.sk-toggleable__label {background-color: #d4ebff;}#sk-container-id-6 div.sk-label input.sk-toggleable__control:checked~label.sk-toggleable__label {background-color: #d4ebff;}#sk-container-id-6 input.sk-hidden--visually {border: 0;clip: rect(1px 1px 1px 1px);clip: rect(1px, 1px, 1px, 1px);height: 1px;margin: -1px;overflow: hidden;padding: 0;position: absolute;width: 1px;}#sk-container-id-6 div.sk-estimator {font-family: monospace;background-color: #f0f8ff;border: 1px dotted black;border-radius: 0.25em;box-sizing: border-box;margin-bottom: 0.5em;}#sk-container-id-6 div.sk-estimator:hover {background-color: #d4ebff;}#sk-container-id-6 div.sk-parallel-item::after {content: \"\";width: 100%;border-bottom: 1px solid gray;flex-grow: 1;}#sk-container-id-6 div.sk-label:hover label.sk-toggleable__label {background-color: #d4ebff;}#sk-container-id-6 div.sk-serial::before {content: \"\";position: absolute;border-left: 1px solid gray;box-sizing: border-box;top: 0;bottom: 0;left: 50%;z-index: 0;}#sk-container-id-6 div.sk-serial {display: flex;flex-direction: column;align-items: center;background-color: white;padding-right: 0.2em;padding-left: 0.2em;position: relative;}#sk-container-id-6 div.sk-item {position: relative;z-index: 1;}#sk-container-id-6 div.sk-parallel {display: flex;align-items: stretch;justify-content: center;background-color: white;position: relative;}#sk-container-id-6 div.sk-item::before, #sk-container-id-6 div.sk-parallel-item::before {content: \"\";position: absolute;border-left: 1px solid gray;box-sizing: border-box;top: 0;bottom: 0;left: 50%;z-index: -1;}#sk-container-id-6 div.sk-parallel-item {display: flex;flex-direction: column;z-index: 1;position: relative;background-color: white;}#sk-container-id-6 div.sk-parallel-item:first-child::after {align-self: flex-end;width: 50%;}#sk-container-id-6 div.sk-parallel-item:last-child::after {align-self: flex-start;width: 50%;}#sk-container-id-6 div.sk-parallel-item:only-child::after {width: 0;}#sk-container-id-6 div.sk-dashed-wrapped {border: 1px dashed gray;margin: 0 0.4em 0.5em 0.4em;box-sizing: border-box;padding-bottom: 0.4em;background-color: white;}#sk-container-id-6 div.sk-label label {font-family: monospace;font-weight: bold;display: inline-block;line-height: 1.2em;}#sk-container-id-6 div.sk-label-container {text-align: center;}#sk-container-id-6 div.sk-container {/* jupyter's `normalize.less` sets `[hidden] { display: none; }` but bootstrap.min.css set `[hidden] { display: none !important; }` so we also need the `!important` here to be able to override the default hidden behavior on the sphinx rendered scikit-learn.org. See: https://github.com/scikit-learn/scikit-learn/issues/21755 */display: inline-block !important;position: relative;}#sk-container-id-6 div.sk-text-repr-fallback {display: none;}</style><div id=\"sk-container-id-6\" class=\"sk-top-container\"><div class=\"sk-text-repr-fallback\"><pre>GradientBoostingClassifier(random_state=42)</pre><b>In a Jupyter environment, please rerun this cell to show the HTML representation or trust the notebook. <br />On GitHub, the HTML representation is unable to render, please try loading this page with nbviewer.org.</b></div><div class=\"sk-container\" hidden><div class=\"sk-item\"><div class=\"sk-estimator sk-toggleable\"><input class=\"sk-toggleable__control sk-hidden--visually\" id=\"sk-estimator-id-6\" type=\"checkbox\" checked><label for=\"sk-estimator-id-6\" class=\"sk-toggleable__label sk-toggleable__label-arrow\">GradientBoostingClassifier</label><div class=\"sk-toggleable__content\"><pre>GradientBoostingClassifier(random_state=42)</pre></div></div></div></div></div>"
      ],
      "text/plain": [
       "GradientBoostingClassifier(random_state=42)"
      ]
     },
     "execution_count": 86,
     "metadata": {},
     "output_type": "execute_result"
    }
   ],
   "source": [
    "# Gradient Boosting with SMOTE\n",
    "from imblearn.over_sampling import SMOTE\n",
    "\n",
    "# Check the number of samples in the minority class\n",
    "smote = SMOTE(random_state=42, k_neighbors=3)  # Set k_neighbors to a smaller value, e.g., 3\n",
    "X_train_smote, y_train_smote = smote.fit_resample(X_train, y_train)\n",
    "\n",
    "# Train Gradient Boosting Model\n",
    "gb_model = GradientBoostingClassifier(random_state=42)\n",
    "gb_model.fit(X_train_smote, y_train_smote)"
   ]
  },
  {
   "cell_type": "code",
   "execution_count": 88,
   "id": "7495e218-5fe2-4275-b4be-0f06d36ef517",
   "metadata": {},
   "outputs": [
    {
     "name": "stdout",
     "output_type": "stream",
     "text": [
      "Gradient Boosting with SMOTE:\n",
      "Accuracy: 1.0000\n",
      "Precision: 1.0000\n",
      "Recall: 1.0000\n",
      "F1 Score: 1.0000\n",
      "--------------------------------------------------\n"
     ]
    }
   ],
   "source": [
    "# Evaluate the Gradient Boosting model\n",
    "gb_accuracy, gb_precision, gb_recall, gb_f1 = evaluate_model(gb_model, X_test, y_test)\n",
    "\n",
    "# Print the evaluation metrics for Gradient Boosting\n",
    "print(\"Gradient Boosting with SMOTE:\")\n",
    "print(f\"Accuracy: {gb_accuracy:.4f}\")\n",
    "print(f\"Precision: {gb_precision:.4f}\")\n",
    "print(f\"Recall: {gb_recall:.4f}\")\n",
    "print(f\"F1 Score: {gb_f1:.4f}\")\n",
    "print(\"-\" * 50)"
   ]
  },
  {
   "cell_type": "code",
   "execution_count": 90,
   "id": "7a7da08c-6330-4852-8afe-38c8bf9f5766",
   "metadata": {},
   "outputs": [
    {
     "name": "stdout",
     "output_type": "stream",
     "text": [
      "Logistic Regression with Class Weighting Classification Report:\n",
      "              precision    recall  f1-score   support\n",
      "\n",
      "       False       1.00      0.99      1.00       203\n",
      "        True       0.33      1.00      0.50         1\n",
      "\n",
      "    accuracy                           0.99       204\n",
      "   macro avg       0.67      1.00      0.75       204\n",
      "weighted avg       1.00      0.99      0.99       204\n",
      "\n",
      "Confusion Matrix:\n",
      "[[201   2]\n",
      " [  0   1]]\n",
      "--------------------------------------------------\n",
      "Random Forest with Class Weighting Classification Report:\n",
      "              precision    recall  f1-score   support\n",
      "\n",
      "       False       1.00      1.00      1.00       203\n",
      "        True       0.00      0.00      0.00         1\n",
      "\n",
      "    accuracy                           1.00       204\n",
      "   macro avg       0.50      0.50      0.50       204\n",
      "weighted avg       0.99      1.00      0.99       204\n",
      "\n",
      "Confusion Matrix:\n",
      "[[203   0]\n",
      " [  1   0]]\n",
      "--------------------------------------------------\n",
      "Gradient Boosting with SMOTE Classification Report:\n",
      "              precision    recall  f1-score   support\n",
      "\n",
      "       False       1.00      1.00      1.00       203\n",
      "        True       1.00      1.00      1.00         1\n",
      "\n",
      "    accuracy                           1.00       204\n",
      "   macro avg       1.00      1.00      1.00       204\n",
      "weighted avg       1.00      1.00      1.00       204\n",
      "\n",
      "Confusion Matrix:\n",
      "[[203   0]\n",
      " [  0   1]]\n",
      "--------------------------------------------------\n"
     ]
    },
    {
     "name": "stderr",
     "output_type": "stream",
     "text": [
      "C:\\Users\\hecsa\\anaconda3\\Lib\\site-packages\\sklearn\\metrics\\_classification.py:1344: UndefinedMetricWarning: Precision and F-score are ill-defined and being set to 0.0 in labels with no predicted samples. Use `zero_division` parameter to control this behavior.\n",
      "  _warn_prf(average, modifier, msg_start, len(result))\n",
      "C:\\Users\\hecsa\\anaconda3\\Lib\\site-packages\\sklearn\\metrics\\_classification.py:1344: UndefinedMetricWarning: Precision and F-score are ill-defined and being set to 0.0 in labels with no predicted samples. Use `zero_division` parameter to control this behavior.\n",
      "  _warn_prf(average, modifier, msg_start, len(result))\n",
      "C:\\Users\\hecsa\\anaconda3\\Lib\\site-packages\\sklearn\\metrics\\_classification.py:1344: UndefinedMetricWarning: Precision and F-score are ill-defined and being set to 0.0 in labels with no predicted samples. Use `zero_division` parameter to control this behavior.\n",
      "  _warn_prf(average, modifier, msg_start, len(result))\n"
     ]
    }
   ],
   "source": [
    "# Evaluate Performance once again\n",
    "\n",
    "from sklearn.metrics import classification_report, confusion_matrix\n",
    "\n",
    "def print_classification_report(model_name, y_true, y_pred):\n",
    "    print(f\"{model_name} Classification Report:\")\n",
    "    print(classification_report(y_true, y_pred))\n",
    "    print(\"Confusion Matrix:\")\n",
    "    print(confusion_matrix(y_true, y_pred))\n",
    "    print(\"-\" * 50)\n",
    "\n",
    "# Logistic Regression\n",
    "y_pred_log_reg = log_model.predict(X_test)\n",
    "print_classification_report('Logistic Regression with Class Weighting', y_test, y_pred_log_reg)\n",
    "\n",
    "# Random Forest\n",
    "y_pred_rf = rf_model.predict(X_test)\n",
    "print_classification_report('Random Forest with Class Weighting', y_test, y_pred_rf)\n",
    "\n",
    "# Gradient Boosting\n",
    "y_pred_gb = gb_model.predict(X_test)\n",
    "print_classification_report('Gradient Boosting with SMOTE', y_test, y_pred_gb)"
   ]
  },
  {
   "cell_type": "code",
   "execution_count": 92,
   "id": "f50d6bb1-0573-49c5-aad5-175ee7e9738b",
   "metadata": {},
   "outputs": [
    {
     "name": "stdout",
     "output_type": "stream",
     "text": [
      "Train class distribution: Desfecho_final_3.0\n",
      "False    811\n",
      "True       4\n",
      "Name: count, dtype: int64\n",
      "Test class distribution: Desfecho_final_3.0\n",
      "False    203\n",
      "True       1\n",
      "Name: count, dtype: int64\n"
     ]
    }
   ],
   "source": [
    "# Check Class Distribution\n",
    "\n",
    "print(\"Train class distribution:\", y_train.value_counts())\n",
    "print(\"Test class distribution:\", y_test.value_counts())"
   ]
  },
  {
   "cell_type": "code",
   "execution_count": 94,
   "id": "de4007a3-a356-4234-a84d-b743dece8994",
   "metadata": {},
   "outputs": [
    {
     "name": "stderr",
     "output_type": "stream",
     "text": [
      "C:\\Users\\hecsa\\anaconda3\\Lib\\site-packages\\sklearn\\model_selection\\_split.py:700: UserWarning: The least populated class in y has only 4 members, which is less than n_splits=5.\n",
      "  warnings.warn(\n",
      "C:\\Users\\hecsa\\anaconda3\\Lib\\site-packages\\sklearn\\metrics\\_classification.py:1609: UndefinedMetricWarning: F-score is ill-defined and being set to 0.0 due to no true nor predicted samples. Use `zero_division` parameter to control this behavior.\n",
      "  _warn_prf(average, \"true nor predicted\", \"F-score is\", len(true_sum))\n"
     ]
    },
    {
     "name": "stdout",
     "output_type": "stream",
     "text": [
      "Cross-validated F1 scores for Random Forest: [0. 0. 0. 0. 0.]\n"
     ]
    }
   ],
   "source": [
    "# Use 5-fold cross-validation on the Random Forest model\n",
    "\n",
    "rf_model = RandomForestClassifier(class_weight='balanced', random_state=42)\n",
    "scores = cross_val_score(rf_model, X_train, y_train, cv=5, scoring='f1')\n",
    "print(\"Cross-validated F1 scores for Random Forest:\", scores)"
   ]
  },
  {
   "cell_type": "code",
   "execution_count": 98,
   "id": "1d0c7d09-dc0f-4dca-a634-48d758afbbb9",
   "metadata": {},
   "outputs": [],
   "source": [
    "# Apply SMOTE ONlY to the Training Data\n",
    "\n",
    "from imblearn.over_sampling import SMOTE\n",
    "smote = SMOTE(random_state=42, k_neighbors=3)\n",
    "X_train_smote, y_train_smote = smote.fit_resample(X_train, y_train)"
   ]
  },
  {
   "cell_type": "code",
   "execution_count": 100,
   "id": "28be9674-31bc-45ee-b2f2-15c78d8cd6f6",
   "metadata": {},
   "outputs": [
    {
     "name": "stderr",
     "output_type": "stream",
     "text": [
      "C:\\Users\\hecsa\\anaconda3\\Lib\\site-packages\\sklearn\\model_selection\\_split.py:700: UserWarning: The least populated class in y has only 4 members, which is less than n_splits=5.\n",
      "  warnings.warn(\n",
      "C:\\Users\\hecsa\\anaconda3\\Lib\\site-packages\\sklearn\\metrics\\_classification.py:1609: UndefinedMetricWarning: F-score is ill-defined and being set to 0.0 due to no true nor predicted samples. Use `zero_division` parameter to control this behavior.\n",
      "  _warn_prf(average, \"true nor predicted\", \"F-score is\", len(true_sum))\n"
     ]
    },
    {
     "name": "stdout",
     "output_type": "stream",
     "text": [
      "Cross-validated F1 scores for Random Forest: [0. 0. 0. 0. 0.]\n"
     ]
    }
   ],
   "source": [
    "# Use Stratified K-Folds Cross Validation\n",
    "\n",
    "from sklearn.model_selection import StratifiedKFold, cross_val_score\n",
    "\n",
    "skf = StratifiedKFold(n_splits=5, shuffle=True, random_state=42)\n",
    "\n",
    "# Example for Random Forest with Stratified K-Folds\n",
    "rf_model = RandomForestClassifier(class_weight='balanced', random_state=42)\n",
    "scores = cross_val_score(rf_model, X_train, y_train, cv=skf, scoring='f1')\n",
    "print(\"Cross-validated F1 scores for Random Forest:\", scores)"
   ]
  },
  {
   "cell_type": "code",
   "execution_count": 102,
   "id": "f72ce437-de43-435e-a71d-17ffe5ca87f1",
   "metadata": {},
   "outputs": [
    {
     "name": "stdout",
     "output_type": "stream",
     "text": [
      "ROC AUC Score for Random Forest: 1.0\n"
     ]
    }
   ],
   "source": [
    "from sklearn.metrics import roc_auc_score, precision_recall_curve\n",
    "\n",
    "# Example for Random Forest\n",
    "rf_model.fit(X_train_smote, y_train_smote)\n",
    "y_pred_proba_rf = rf_model.predict_proba(X_test)[:, 1]\n",
    "roc_auc = roc_auc_score(y_test, y_pred_proba_rf)\n",
    "print(\"ROC AUC Score for Random Forest:\", roc_auc)"
   ]
  },
  {
   "cell_type": "markdown",
   "id": "179d032e-e96f-4dad-8b11-6d82ca482dd6",
   "metadata": {},
   "source": [
    "We continue to get unrealistic performance metrics. We will now attempt to debug once more"
   ]
  },
  {
   "cell_type": "code",
   "execution_count": 112,
   "id": "51760507-4171-4207-be26-28da765696bd",
   "metadata": {},
   "outputs": [
    {
     "data": {
      "text/plain": [
       "(1.0, 1.0, 1.0, 1.0)"
      ]
     },
     "execution_count": 112,
     "metadata": {},
     "output_type": "execute_result"
    }
   ],
   "source": [
    "# Ensure SMOTE is Only applied to the Training Data\n",
    "\n",
    "from imblearn.over_sampling import SMOTE\n",
    "from sklearn.ensemble import GradientBoostingClassifier\n",
    "\n",
    "# Initialize SMOTE\n",
    "smote = SMOTE(random_state=42, k_neighbors=3)\n",
    "\n",
    "# Apply SMOTE to the training set\n",
    "X_train_smote, y_train_smote = smote.fit_resample(X_train, y_train)\n",
    "\n",
    "# Train the Gradient Boosting model on the resampled training set\n",
    "gb_model = GradientBoostingClassifier(random_state=42)\n",
    "gb_model.fit(X_train_smote, y_train_smote)\n",
    "\n",
    "# Evaluate on the original test set\n",
    "y_pred_gb = gb_model.predict(X_test)\n",
    "evaluate_model(gb_model, X_test, y_test)  # Using your custom evaluation function\n"
   ]
  },
  {
   "cell_type": "code",
   "execution_count": 114,
   "id": "4478c75e-5df6-4282-bc03-c8b9a1a7c9d2",
   "metadata": {},
   "outputs": [
    {
     "name": "stderr",
     "output_type": "stream",
     "text": [
      "C:\\Users\\hecsa\\anaconda3\\Lib\\site-packages\\sklearn\\model_selection\\_split.py:700: UserWarning: The least populated class in y has only 4 members, which is less than n_splits=5.\n",
      "  warnings.warn(\n",
      "C:\\Users\\hecsa\\anaconda3\\Lib\\site-packages\\sklearn\\metrics\\_classification.py:1609: UndefinedMetricWarning: F-score is ill-defined and being set to 0.0 due to no true nor predicted samples. Use `zero_division` parameter to control this behavior.\n",
      "  _warn_prf(average, \"true nor predicted\", \"F-score is\", len(true_sum))\n"
     ]
    },
    {
     "name": "stdout",
     "output_type": "stream",
     "text": [
      "Cross-validated F1 scores for Random Forest: [0. 0. 0. 0. 0.]\n"
     ]
    }
   ],
   "source": [
    "# Use Stratified K-Folds Cross Validation\n",
    "\n",
    "from sklearn.model_selection import StratifiedKFold, cross_val_score\n",
    "from sklearn.ensemble import RandomForestClassifier\n",
    "\n",
    "# Set up Stratified K-Fold Cross-Validation\n",
    "skf = StratifiedKFold(n_splits=5, shuffle=True, random_state=42)\n",
    "\n",
    "# Example with Random Forest Classifier\n",
    "rf_model = RandomForestClassifier(class_weight='balanced', random_state=42)\n",
    "cross_val_scores = cross_val_score(rf_model, X_train, y_train, cv=skf, scoring='f1')\n",
    "\n",
    "# Display the cross-validation F1 scores\n",
    "print(\"Cross-validated F1 scores for Random Forest:\", cross_val_scores)"
   ]
  },
  {
   "cell_type": "code",
   "execution_count": 118,
   "id": "0dfd2e59-f1e5-4081-a8a3-f78cfea169fb",
   "metadata": {},
   "outputs": [
    {
     "name": "stdout",
     "output_type": "stream",
     "text": [
      "ROC AUC Score for Random Forest: 1.0\n"
     ]
    },
    {
     "data": {
      "image/png": "[encoded data removed]",
      "text/plain": [
       "<Figure size 640x480 with 1 Axes>"
      ]
     },
     "metadata": {},
     "output_type": "display_data"
    },
    {
     "name": "stdout",
     "output_type": "stream",
     "text": [
      "Random Forest Accuracy: 0.9951\n",
      "Random Forest Precision: 0.0000\n",
      "Random Forest Recall: 0.0000\n",
      "Random Forest F1 Score: 0.0000\n"
     ]
    }
   ],
   "source": [
    "# Calculate AUC-ROC and Precision-Recall Curves\n",
    "\n",
    "from sklearn.ensemble import RandomForestClassifier\n",
    "from sklearn.metrics import roc_auc_score, precision_recall_curve, accuracy_score, precision_score, recall_score, f1_score\n",
    "\n",
    "# Train the RandomForestClassifier\n",
    "rf_model = RandomForestClassifier(class_weight='balanced', random_state=42)\n",
    "\n",
    "# Fit the model on the training data\n",
    "rf_model.fit(X_train, y_train)\n",
    "\n",
    "# Get predicted probabilities for the test set\n",
    "y_pred_proba_rf = rf_model.predict_proba(X_test)[:, 1]\n",
    "\n",
    "# Compute the ROC AUC score\n",
    "roc_auc = roc_auc_score(y_test, y_pred_proba_rf)\n",
    "print(f\"ROC AUC Score for Random Forest: {roc_auc}\")\n",
    "\n",
    "# Compute the Precision-Recall Curve\n",
    "precision, recall, _ = precision_recall_curve(y_test, y_pred_proba_rf)\n",
    "\n",
    "# Plot Precision-Recall curve (optional but helpful for visualization)\n",
    "import matplotlib.pyplot as plt\n",
    "\n",
    "plt.plot(recall, precision, marker='.')\n",
    "plt.title('Precision-Recall Curve')\n",
    "plt.xlabel('Recall')\n",
    "plt.ylabel('Precision')\n",
    "plt.show()\n",
    "\n",
    "# Predict the class labels for test data\n",
    "y_pred_rf = rf_model.predict(X_test)\n",
    "\n",
    "# Evaluate model performance using your custom evaluation function or manually\n",
    "accuracy = accuracy_score(y_test, y_pred_rf)\n",
    "precision = precision_score(y_test, y_pred_rf, zero_division=0)\n",
    "recall = recall_score(y_test, y_pred_rf, zero_division=0)\n",
    "f1 = f1_score(y_test, y_pred_rf, zero_division=0)\n",
    "\n",
    "print(f\"Random Forest Accuracy: {accuracy:.4f}\")\n",
    "print(f\"Random Forest Precision: {precision:.4f}\")\n",
    "print(f\"Random Forest Recall: {recall:.4f}\")\n",
    "print(f\"Random Forest F1 Score: {f1:.4f}\")"
   ]
  },
  {
   "cell_type": "code",
   "execution_count": 120,
   "id": "e5063844-f723-441e-b12c-d6d986b651e9",
   "metadata": {},
   "outputs": [
    {
     "data": {
      "text/plain": [
       "(1.0, 0.0, 0.0, 0.0)"
      ]
     },
     "execution_count": 120,
     "metadata": {},
     "output_type": "execute_result"
    }
   ],
   "source": [
    "# Adjust Deciion Threshold\n",
    "\n",
    "# Get predicted probabilities for the test set\n",
    "y_pred_proba = rf_model.predict_proba(X_test)[:, 1]\n",
    "\n",
    "# Adjust the decision threshold (e.g., setting the threshold to 0.3 instead of 0.5)\n",
    "threshold = 0.3\n",
    "y_pred_adjusted = (y_pred_proba >= threshold).astype(int)\n",
    "\n",
    "# Evaluate using the adjusted predictions\n",
    "evaluate_model(rf_model, X_test, y_pred_adjusted)"
   ]
  },
  {
   "cell_type": "code",
   "execution_count": 122,
   "id": "feece4ba-ec36-4006-bff2-e515966c5431",
   "metadata": {},
   "outputs": [
    {
     "name": "stdout",
     "output_type": "stream",
     "text": [
      "Accuracy: 1.0000\n",
      "Precision: 1.0000\n",
      "Recall: 1.0000\n",
      "F1 Score: 1.0000\n"
     ]
    }
   ],
   "source": [
    "# Evaluate the model using the previously defined function\n",
    "\n",
    "# Evaluate the model after resampling, cross-validation, or threshold adjustment\n",
    "accuracy, precision, recall, f1 = evaluate_model(gb_model, X_test, y_test)\n",
    "\n",
    "# Print the results\n",
    "print(f\"Accuracy: {accuracy:.4f}\")\n",
    "print(f\"Precision: {precision:.4f}\")\n",
    "print(f\"Recall: {recall:.4f}\")\n",
    "print(f\"F1 Score: {f1:.4f}\")"
   ]
  },
  {
   "cell_type": "code",
   "execution_count": null,
   "id": "38d71868-57fa-47b7-b6ce-053038cb4b7b",
   "metadata": {},
   "outputs": [],
   "source": [
    "# WE now must choose the best model based on these evaluation metrics"
   ]
  },
  {
   "cell_type": "code",
   "execution_count": 124,
   "id": "c2c16029-7c18-445e-abfa-a7fecc35566c",
   "metadata": {},
   "outputs": [
    {
     "name": "stdout",
     "output_type": "stream",
     "text": [
      "\n",
      "Best model based on Accuracy: Gradient Boosting\n"
     ]
    }
   ],
   "source": [
    "# Evaluate the models using different metrics\n",
    "\n",
    "log_f1 = f1_score(y_test, log_model.predict(X_test), zero_division=0)\n",
    "log_accuracy = accuracy_score(y_test, log_model.predict(X_test))\n",
    "\n",
    "rf_f1 = f1_score(y_test, rf_model.predict(X_test), zero_division=0)\n",
    "rf_accuracy = accuracy_score(y_test, rf_model.predict(X_test))\n",
    "\n",
    "gb_f1 = f1_score(y_test, gb_model.predict(X_test), zero_division=0)\n",
    "gb_accuracy = accuracy_score(y_test, gb_model.predict(X_test))\n",
    "\n",
    "# Choose the best model based on accuracy\n",
    "\n",
    "model_performance = {\n",
    "    'Logistic Regression': log_accuracy,\n",
    "    'Random Forest': rf_accuracy,\n",
    "    'Gradient Boosting': gb_accuracy\n",
    "}\n",
    "\n",
    "best_model_name = max(model_performance, key=model_performance.get)\n",
    "print(f\"\\nBest model based on Accuracy: {best_model_name}\")"
   ]
  },
  {
   "cell_type": "code",
   "execution_count": 126,
   "id": "51f3291f-8de3-48f4-afd7-b6156c526b55",
   "metadata": {},
   "outputs": [],
   "source": [
    "# Now let's save the best model for future use\n",
    "\n",
    "import joblib\n",
    "\n",
    "if best_model_name == 'Logistic Regression':\n",
    "    best_model = log_model\n",
    "elif best_model_name == 'Random Forest':\n",
    "    best_model = rf_model\n",
    "else:\n",
    "    best_model = gb_model"
   ]
  },
  {
   "cell_type": "code",
   "execution_count": 128,
   "id": "df9302fd-3b8d-4dc1-b4d1-fc07ff1ae836",
   "metadata": {},
   "outputs": [
    {
     "name": "stdout",
     "output_type": "stream",
     "text": [
      "\n",
      "Best model saved as 'best_model.pkl'\n"
     ]
    }
   ],
   "source": [
    "# Save the best model\n",
    "joblib.dump(best_model, 'best_model.pkl')\n",
    "\n",
    "print(\"\\nBest model saved as 'best_model.pkl'\")"
   ]
  }
 ],
 "metadata": {
  "kernelspec": {
   "display_name": "Python 3 (ipykernel)",
   "language": "python",
   "name": "python3"
  },
  "language_info": {
   "codemirror_mode": {
    "name": "ipython",
    "version": 3
   },
   "file_extension": ".py",
   "mimetype": "text/x-python",
   "name": "python",
   "nbconvert_exporter": "python",
   "pygments_lexer": "ipython3",
   "version": "3.11.7"
  }
 },
 "nbformat": 4,
 "nbformat_minor": 5
}
